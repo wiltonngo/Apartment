{
 "cells": [
  {
   "cell_type": "markdown",
   "id": "5d26af83-1128-4dcb-ae5f-ce65972e6cdb",
   "metadata": {},
   "source": [
    "# Importing Libraries"
   ]
  },
  {
   "cell_type": "code",
   "execution_count": 1,
   "id": "72173eb0-476f-49d2-a9a7-d4856823ffa4",
   "metadata": {},
   "outputs": [],
   "source": [
    "import pandas as pd\n",
    "import numpy as np\n",
    "import seaborn as sns\n",
    "import matplotlib\n",
    "import matplotlib.pyplot as plt\n",
    "import os\n",
    "import sklearn\n",
    "from sklearn.model_selection import train_test_split \n",
    "from sklearn.linear_model import LinearRegression\n",
    "from sklearn.metrics import mean_squared_error, r2_score"
   ]
  },
  {
   "cell_type": "code",
   "execution_count": 2,
   "id": "c9c7ec32-d1cd-44b8-b478-755ef5c515db",
   "metadata": {},
   "outputs": [],
   "source": [
    "# This option ensures that the graphs you create are displayed within the notebook without the need to \"call\" them specifically.\n",
    "\n",
    "%matplotlib inline"
   ]
  },
  {
   "cell_type": "code",
   "execution_count": 18,
   "id": "d9d9310c-61a5-44bc-b933-0b5d04dc68ed",
   "metadata": {},
   "outputs": [],
   "source": [
    "df = pd.read_csv('/Users/wiltonngo/Apartment Rentals/ Data/Prepared Data/app2.csv')"
   ]
  },
  {
   "cell_type": "markdown",
   "id": "360800d5-930c-4132-8abb-74ae7329fa9d",
   "metadata": {},
   "source": [
    "# Data Cleaning"
   ]
  },
  {
   "cell_type": "code",
   "execution_count": 19,
   "id": "f8cd73f7-ff12-4a34-bd41-e1511f3e4137",
   "metadata": {},
   "outputs": [
    {
     "data": {
      "text/html": [
       "<div>\n",
       "<style scoped>\n",
       "    .dataframe tbody tr th:only-of-type {\n",
       "        vertical-align: middle;\n",
       "    }\n",
       "\n",
       "    .dataframe tbody tr th {\n",
       "        vertical-align: top;\n",
       "    }\n",
       "\n",
       "    .dataframe thead th {\n",
       "        text-align: right;\n",
       "    }\n",
       "</style>\n",
       "<table border=\"1\" class=\"dataframe\">\n",
       "  <thead>\n",
       "    <tr style=\"text-align: right;\">\n",
       "      <th></th>\n",
       "      <th>Unnamed: 0</th>\n",
       "      <th>State</th>\n",
       "      <th>Service Charge</th>\n",
       "      <th>Heating Type</th>\n",
       "      <th>Telekom-Tv Offer</th>\n",
       "      <th>Newly Construction</th>\n",
       "      <th>Balcony</th>\n",
       "      <th>Picture_count</th>\n",
       "      <th>Price_Trend</th>\n",
       "      <th>Telekom Upload Speed</th>\n",
       "      <th>...</th>\n",
       "      <th>Base Rent</th>\n",
       "      <th>Living Space</th>\n",
       "      <th>Pets Allowed</th>\n",
       "      <th>Lift</th>\n",
       "      <th>Type Of Flat</th>\n",
       "      <th>Rooms</th>\n",
       "      <th>Floor</th>\n",
       "      <th>Garden</th>\n",
       "      <th>date</th>\n",
       "      <th>Cost_Of_living</th>\n",
       "    </tr>\n",
       "  </thead>\n",
       "  <tbody>\n",
       "    <tr>\n",
       "      <th>0</th>\n",
       "      <td>0</td>\n",
       "      <td>Nordrhein_Westfalen</td>\n",
       "      <td>245.0</td>\n",
       "      <td>central_heating</td>\n",
       "      <td>ONE_YEAR_FREE</td>\n",
       "      <td>False</td>\n",
       "      <td>False</td>\n",
       "      <td>6</td>\n",
       "      <td>4.62</td>\n",
       "      <td>10.0</td>\n",
       "      <td>...</td>\n",
       "      <td>595.00</td>\n",
       "      <td>86.00</td>\n",
       "      <td>NaN</td>\n",
       "      <td>False</td>\n",
       "      <td>ground_floor</td>\n",
       "      <td>4.0</td>\n",
       "      <td>1.0</td>\n",
       "      <td>True</td>\n",
       "      <td>May19</td>\n",
       "      <td>Median</td>\n",
       "    </tr>\n",
       "    <tr>\n",
       "      <th>1</th>\n",
       "      <td>2</td>\n",
       "      <td>Sachsen</td>\n",
       "      <td>255.0</td>\n",
       "      <td>floor_heating</td>\n",
       "      <td>ONE_YEAR_FREE</td>\n",
       "      <td>True</td>\n",
       "      <td>True</td>\n",
       "      <td>8</td>\n",
       "      <td>2.72</td>\n",
       "      <td>2.4</td>\n",
       "      <td>...</td>\n",
       "      <td>965.00</td>\n",
       "      <td>83.80</td>\n",
       "      <td>NaN</td>\n",
       "      <td>True</td>\n",
       "      <td>apartment</td>\n",
       "      <td>3.0</td>\n",
       "      <td>3.0</td>\n",
       "      <td>False</td>\n",
       "      <td>Oct19</td>\n",
       "      <td>Expensive</td>\n",
       "    </tr>\n",
       "    <tr>\n",
       "      <th>2</th>\n",
       "      <td>4</td>\n",
       "      <td>Bremen</td>\n",
       "      <td>138.0</td>\n",
       "      <td>self_contained_central_heating</td>\n",
       "      <td>NaN</td>\n",
       "      <td>False</td>\n",
       "      <td>True</td>\n",
       "      <td>19</td>\n",
       "      <td>2.46</td>\n",
       "      <td>NaN</td>\n",
       "      <td>...</td>\n",
       "      <td>765.00</td>\n",
       "      <td>84.97</td>\n",
       "      <td>NaN</td>\n",
       "      <td>False</td>\n",
       "      <td>apartment</td>\n",
       "      <td>3.0</td>\n",
       "      <td>1.0</td>\n",
       "      <td>False</td>\n",
       "      <td>Feb20</td>\n",
       "      <td>Expensive</td>\n",
       "    </tr>\n",
       "    <tr>\n",
       "      <th>3</th>\n",
       "      <td>6</td>\n",
       "      <td>Sachsen</td>\n",
       "      <td>70.0</td>\n",
       "      <td>self_contained_central_heating</td>\n",
       "      <td>ONE_YEAR_FREE</td>\n",
       "      <td>False</td>\n",
       "      <td>False</td>\n",
       "      <td>9</td>\n",
       "      <td>1.01</td>\n",
       "      <td>2.4</td>\n",
       "      <td>...</td>\n",
       "      <td>310.00</td>\n",
       "      <td>62.00</td>\n",
       "      <td>NaN</td>\n",
       "      <td>False</td>\n",
       "      <td>NaN</td>\n",
       "      <td>2.0</td>\n",
       "      <td>1.0</td>\n",
       "      <td>True</td>\n",
       "      <td>Feb20</td>\n",
       "      <td>Cheapest</td>\n",
       "    </tr>\n",
       "    <tr>\n",
       "      <th>4</th>\n",
       "      <td>7</td>\n",
       "      <td>Bremen</td>\n",
       "      <td>88.0</td>\n",
       "      <td>central_heating</td>\n",
       "      <td>ONE_YEAR_FREE</td>\n",
       "      <td>False</td>\n",
       "      <td>True</td>\n",
       "      <td>5</td>\n",
       "      <td>1.89</td>\n",
       "      <td>2.4</td>\n",
       "      <td>...</td>\n",
       "      <td>452.25</td>\n",
       "      <td>60.30</td>\n",
       "      <td>NaN</td>\n",
       "      <td>False</td>\n",
       "      <td>ground_floor</td>\n",
       "      <td>3.0</td>\n",
       "      <td>NaN</td>\n",
       "      <td>False</td>\n",
       "      <td>Feb20</td>\n",
       "      <td>Cheapest</td>\n",
       "    </tr>\n",
       "  </tbody>\n",
       "</table>\n",
       "<p>5 rows × 25 columns</p>\n",
       "</div>"
      ],
      "text/plain": [
       "   Unnamed: 0                State  Service Charge  \\\n",
       "0           0  Nordrhein_Westfalen           245.0   \n",
       "1           2              Sachsen           255.0   \n",
       "2           4               Bremen           138.0   \n",
       "3           6              Sachsen            70.0   \n",
       "4           7               Bremen            88.0   \n",
       "\n",
       "                     Heating Type Telekom-Tv Offer  Newly Construction  \\\n",
       "0                 central_heating    ONE_YEAR_FREE               False   \n",
       "1                   floor_heating    ONE_YEAR_FREE                True   \n",
       "2  self_contained_central_heating              NaN               False   \n",
       "3  self_contained_central_heating    ONE_YEAR_FREE               False   \n",
       "4                 central_heating    ONE_YEAR_FREE               False   \n",
       "\n",
       "   Balcony  Picture_count  Price_Trend  Telekom Upload Speed  ...  Base Rent  \\\n",
       "0    False              6         4.62                  10.0  ...     595.00   \n",
       "1     True              8         2.72                   2.4  ...     965.00   \n",
       "2     True             19         2.46                   NaN  ...     765.00   \n",
       "3    False              9         1.01                   2.4  ...     310.00   \n",
       "4     True              5         1.89                   2.4  ...     452.25   \n",
       "\n",
       "   Living Space  Pets Allowed   Lift  Type Of Flat  Rooms  Floor Garden  \\\n",
       "0         86.00           NaN  False  ground_floor    4.0    1.0   True   \n",
       "1         83.80           NaN   True     apartment    3.0    3.0  False   \n",
       "2         84.97           NaN  False     apartment    3.0    1.0  False   \n",
       "3         62.00           NaN  False           NaN    2.0    1.0   True   \n",
       "4         60.30           NaN  False  ground_floor    3.0    NaN  False   \n",
       "\n",
       "    date Cost_Of_living  \n",
       "0  May19         Median  \n",
       "1  Oct19      Expensive  \n",
       "2  Feb20      Expensive  \n",
       "3  Feb20       Cheapest  \n",
       "4  Feb20       Cheapest  \n",
       "\n",
       "[5 rows x 25 columns]"
      ]
     },
     "execution_count": 19,
     "metadata": {},
     "output_type": "execute_result"
    }
   ],
   "source": [
    "df.head()"
   ]
  },
  {
   "cell_type": "code",
   "execution_count": 20,
   "id": "9cb2e82b-ae10-432a-904b-cb37e45456a2",
   "metadata": {},
   "outputs": [],
   "source": [
    "# Drop uncessary columns\n",
    "df.drop(columns=['Unnamed: 0'],inplace=True)"
   ]
  },
  {
   "cell_type": "code",
   "execution_count": 21,
   "id": "c54fbcf5-9d0e-49d5-876e-1f07623b5d6d",
   "metadata": {},
   "outputs": [
    {
     "data": {
      "text/plain": [
       "(228315, 24)"
      ]
     },
     "execution_count": 21,
     "metadata": {},
     "output_type": "execute_result"
    }
   ],
   "source": [
    "df.shape"
   ]
  },
  {
   "cell_type": "code",
   "execution_count": 22,
   "id": "49bc23d7-ae5d-4487-80e4-5d4ffc29faea",
   "metadata": {},
   "outputs": [
    {
     "data": {
      "text/plain": [
       "State                       0\n",
       "Service Charge           4088\n",
       "Heating Type            36820\n",
       "Telekom-Tv Offer        27427\n",
       "Newly Construction          0\n",
       "Balcony                     0\n",
       "Picture_count               0\n",
       "Price_Trend              1609\n",
       "Telekom Upload Speed    28048\n",
       "Total Rent                  0\n",
       "Year Constructed        49277\n",
       "Scout ID                    0\n",
       "Kitchen                     0\n",
       "Cellar                      0\n",
       "Base Rent                   0\n",
       "Living Space                0\n",
       "Pets Allowed            95348\n",
       "Lift                        0\n",
       "Type Of Flat            30552\n",
       "Rooms                       0\n",
       "Floor                   40361\n",
       "Garden                      0\n",
       "date                        0\n",
       "Cost_Of_living              0\n",
       "dtype: int64"
      ]
     },
     "execution_count": 22,
     "metadata": {},
     "output_type": "execute_result"
    }
   ],
   "source": [
    "# Check for missing values\n",
    "df.isnull().sum()"
   ]
  },
  {
   "cell_type": "code",
   "execution_count": 23,
   "id": "42c8fc83-23e8-4e90-be0c-1d9742aecf93",
   "metadata": {},
   "outputs": [],
   "source": [
    "# There is alot of missing values, So I decided to leave the values alone and not skew the data"
   ]
  },
  {
   "cell_type": "code",
   "execution_count": 24,
   "id": "1592fbdf-bffd-4687-a8b0-2946891bff11",
   "metadata": {},
   "outputs": [
    {
     "name": "stderr",
     "output_type": "stream",
     "text": [
      "/Users/wiltonngo/opt/anaconda3/lib/python3.9/site-packages/seaborn/distributions.py:2619: FutureWarning: `distplot` is a deprecated function and will be removed in a future version. Please adapt your code to use either `displot` (a figure-level function with similar flexibility) or `histplot` (an axes-level function for histograms).\n",
      "  warnings.warn(msg, FutureWarning)\n"
     ]
    },
    {
     "data": {
      "text/plain": [
       "<AxesSubplot:xlabel='Total Rent', ylabel='Density'>"
      ]
     },
     "execution_count": 24,
     "metadata": {},
     "output_type": "execute_result"
    },
    {
     "data": {
      "image/png": "[encoded data removed]",
      "text/plain": [
       "<Figure size 432x288 with 1 Axes>"
      ]
     },
     "metadata": {
      "needs_background": "light"
     },
     "output_type": "display_data"
    }
   ],
   "source": [
    "# Check for extreme values\n",
    "sns.distplot(df['Total Rent'],bins = 25, kde = True)"
   ]
  },
  {
   "cell_type": "code",
   "execution_count": 25,
   "id": "cd389544-d78d-4d9c-9e43-8eaad7d7564f",
   "metadata": {},
   "outputs": [
    {
     "data": {
      "text/plain": [
       "650.0"
      ]
     },
     "execution_count": 25,
     "metadata": {},
     "output_type": "execute_result"
    }
   ],
   "source": [
    "# Check Median\n",
    "df['Total Rent'].median()"
   ]
  },
  {
   "cell_type": "code",
   "execution_count": 26,
   "id": "3926bfb4-8bfc-4351-9a6b-463f709beedf",
   "metadata": {},
   "outputs": [
    {
     "data": {
      "text/plain": [
       "814.9408274095072"
      ]
     },
     "execution_count": 26,
     "metadata": {},
     "output_type": "execute_result"
    }
   ],
   "source": [
    "# Check Mean\n",
    "df['Total Rent'].mean()"
   ]
  },
  {
   "cell_type": "code",
   "execution_count": 27,
   "id": "65a1ca66-331f-4011-b9d8-588f160a241d",
   "metadata": {},
   "outputs": [
    {
     "data": {
      "text/plain": [
       "64651.0"
      ]
     },
     "execution_count": 27,
     "metadata": {},
     "output_type": "execute_result"
    }
   ],
   "source": [
    "# Check max\n",
    "df['Total Rent'].max()"
   ]
  },
  {
   "cell_type": "code",
   "execution_count": 28,
   "id": "6b909150-e0e7-489b-b1de-4866b285a495",
   "metadata": {},
   "outputs": [
    {
     "data": {
      "text/plain": [
       "0.0"
      ]
     },
     "execution_count": 28,
     "metadata": {},
     "output_type": "execute_result"
    }
   ],
   "source": [
    "# Check min\n",
    "df['Total Rent'].min()"
   ]
  },
  {
   "cell_type": "code",
   "execution_count": 29,
   "id": "63420e48-c811-4eb3-bb66-bbe8ddbd1588",
   "metadata": {},
   "outputs": [
    {
     "data": {
      "text/html": [
       "<div>\n",
       "<style scoped>\n",
       "    .dataframe tbody tr th:only-of-type {\n",
       "        vertical-align: middle;\n",
       "    }\n",
       "\n",
       "    .dataframe tbody tr th {\n",
       "        vertical-align: top;\n",
       "    }\n",
       "\n",
       "    .dataframe thead th {\n",
       "        text-align: right;\n",
       "    }\n",
       "</style>\n",
       "<table border=\"1\" class=\"dataframe\">\n",
       "  <thead>\n",
       "    <tr style=\"text-align: right;\">\n",
       "      <th></th>\n",
       "      <th>Service Charge</th>\n",
       "      <th>Picture_count</th>\n",
       "      <th>Price_Trend</th>\n",
       "      <th>Telekom Upload Speed</th>\n",
       "      <th>Total Rent</th>\n",
       "      <th>Year Constructed</th>\n",
       "      <th>Scout ID</th>\n",
       "      <th>Base Rent</th>\n",
       "      <th>Living Space</th>\n",
       "      <th>Rooms</th>\n",
       "      <th>Floor</th>\n",
       "    </tr>\n",
       "  </thead>\n",
       "  <tbody>\n",
       "    <tr>\n",
       "      <th>count</th>\n",
       "      <td>224227.000000</td>\n",
       "      <td>228315.000000</td>\n",
       "      <td>226706.000000</td>\n",
       "      <td>200267.000000</td>\n",
       "      <td>228315.000000</td>\n",
       "      <td>179038.000000</td>\n",
       "      <td>2.283150e+05</td>\n",
       "      <td>228315.000000</td>\n",
       "      <td>228315.000000</td>\n",
       "      <td>228315.000000</td>\n",
       "      <td>187954.000000</td>\n",
       "    </tr>\n",
       "    <tr>\n",
       "      <th>mean</th>\n",
       "      <td>151.423988</td>\n",
       "      <td>9.868480</td>\n",
       "      <td>3.394350</td>\n",
       "      <td>28.927989</td>\n",
       "      <td>814.940827</td>\n",
       "      <td>1965.700633</td>\n",
       "      <td>1.068851e+08</td>\n",
       "      <td>644.046138</td>\n",
       "      <td>73.682453</td>\n",
       "      <td>2.612384</td>\n",
       "      <td>2.131878</td>\n",
       "    </tr>\n",
       "    <tr>\n",
       "      <th>std</th>\n",
       "      <td>326.331778</td>\n",
       "      <td>6.441038</td>\n",
       "      <td>2.002074</td>\n",
       "      <td>16.302592</td>\n",
       "      <td>610.987831</td>\n",
       "      <td>47.852736</td>\n",
       "      <td>1.251104e+07</td>\n",
       "      <td>507.167425</td>\n",
       "      <td>273.771167</td>\n",
       "      <td>0.984269</td>\n",
       "      <td>3.554085</td>\n",
       "    </tr>\n",
       "    <tr>\n",
       "      <th>min</th>\n",
       "      <td>0.000000</td>\n",
       "      <td>0.000000</td>\n",
       "      <td>-12.330000</td>\n",
       "      <td>1.000000</td>\n",
       "      <td>0.000000</td>\n",
       "      <td>1000.000000</td>\n",
       "      <td>2.887174e+07</td>\n",
       "      <td>0.000000</td>\n",
       "      <td>0.000000</td>\n",
       "      <td>1.000000</td>\n",
       "      <td>-1.000000</td>\n",
       "    </tr>\n",
       "    <tr>\n",
       "      <th>25%</th>\n",
       "      <td>95.495000</td>\n",
       "      <td>6.000000</td>\n",
       "      <td>1.960000</td>\n",
       "      <td>10.000000</td>\n",
       "      <td>469.800000</td>\n",
       "      <td>1940.000000</td>\n",
       "      <td>1.066224e+08</td>\n",
       "      <td>335.000000</td>\n",
       "      <td>54.000000</td>\n",
       "      <td>2.000000</td>\n",
       "      <td>1.000000</td>\n",
       "    </tr>\n",
       "    <tr>\n",
       "      <th>50%</th>\n",
       "      <td>136.000000</td>\n",
       "      <td>9.000000</td>\n",
       "      <td>3.390000</td>\n",
       "      <td>40.000000</td>\n",
       "      <td>650.000000</td>\n",
       "      <td>1972.000000</td>\n",
       "      <td>1.111396e+08</td>\n",
       "      <td>490.000000</td>\n",
       "      <td>67.000000</td>\n",
       "      <td>3.000000</td>\n",
       "      <td>2.000000</td>\n",
       "    </tr>\n",
       "    <tr>\n",
       "      <th>75%</th>\n",
       "      <td>190.000000</td>\n",
       "      <td>13.000000</td>\n",
       "      <td>4.600000</td>\n",
       "      <td>40.000000</td>\n",
       "      <td>985.000000</td>\n",
       "      <td>1996.000000</td>\n",
       "      <td>1.137651e+08</td>\n",
       "      <td>795.000000</td>\n",
       "      <td>86.000000</td>\n",
       "      <td>3.000000</td>\n",
       "      <td>3.000000</td>\n",
       "    </tr>\n",
       "    <tr>\n",
       "      <th>max</th>\n",
       "      <td>146118.000000</td>\n",
       "      <td>112.000000</td>\n",
       "      <td>14.920000</td>\n",
       "      <td>100.000000</td>\n",
       "      <td>64651.000000</td>\n",
       "      <td>2090.000000</td>\n",
       "      <td>1.157117e+08</td>\n",
       "      <td>30990.000000</td>\n",
       "      <td>111111.000000</td>\n",
       "      <td>25.000000</td>\n",
       "      <td>999.000000</td>\n",
       "    </tr>\n",
       "  </tbody>\n",
       "</table>\n",
       "</div>"
      ],
      "text/plain": [
       "       Service Charge  Picture_count    Price_Trend  Telekom Upload Speed  \\\n",
       "count   224227.000000  228315.000000  226706.000000         200267.000000   \n",
       "mean       151.423988       9.868480       3.394350             28.927989   \n",
       "std        326.331778       6.441038       2.002074             16.302592   \n",
       "min          0.000000       0.000000     -12.330000              1.000000   \n",
       "25%         95.495000       6.000000       1.960000             10.000000   \n",
       "50%        136.000000       9.000000       3.390000             40.000000   \n",
       "75%        190.000000      13.000000       4.600000             40.000000   \n",
       "max     146118.000000     112.000000      14.920000            100.000000   \n",
       "\n",
       "          Total Rent  Year Constructed      Scout ID      Base Rent  \\\n",
       "count  228315.000000     179038.000000  2.283150e+05  228315.000000   \n",
       "mean      814.940827       1965.700633  1.068851e+08     644.046138   \n",
       "std       610.987831         47.852736  1.251104e+07     507.167425   \n",
       "min         0.000000       1000.000000  2.887174e+07       0.000000   \n",
       "25%       469.800000       1940.000000  1.066224e+08     335.000000   \n",
       "50%       650.000000       1972.000000  1.111396e+08     490.000000   \n",
       "75%       985.000000       1996.000000  1.137651e+08     795.000000   \n",
       "max     64651.000000       2090.000000  1.157117e+08   30990.000000   \n",
       "\n",
       "        Living Space          Rooms          Floor  \n",
       "count  228315.000000  228315.000000  187954.000000  \n",
       "mean       73.682453       2.612384       2.131878  \n",
       "std       273.771167       0.984269       3.554085  \n",
       "min         0.000000       1.000000      -1.000000  \n",
       "25%        54.000000       2.000000       1.000000  \n",
       "50%        67.000000       3.000000       2.000000  \n",
       "75%        86.000000       3.000000       3.000000  \n",
       "max    111111.000000      25.000000     999.000000  "
      ]
     },
     "execution_count": 29,
     "metadata": {},
     "output_type": "execute_result"
    }
   ],
   "source": [
    "df.describe()"
   ]
  },
  {
   "cell_type": "markdown",
   "id": "406653dd-1894-42fd-b7e5-62e2b29ffc25",
   "metadata": {},
   "source": [
    "# Data Prep for Regression Analysis"
   ]
  },
  {
   "cell_type": "markdown",
   "id": "47b96c19-bb7e-4323-9bac-2bc773b64d6f",
   "metadata": {},
   "source": [
    "### Hypothesis: If there is more living space the Rent will increase."
   ]
  },
  {
   "cell_type": "code",
   "execution_count": 31,
   "id": "f0c0d089-3613-44c8-aa09-231300ee57cf",
   "metadata": {},
   "outputs": [
    {
     "data": {
      "image/png": "[encoded data removed]",
      "text/plain": [
       "<Figure size 432x288 with 1 Axes>"
      ]
     },
     "metadata": {
      "needs_background": "light"
     },
     "output_type": "display_data"
    }
   ],
   "source": [
    "df.plot(x = 'Living Space', y='Total Rent',style='o') # The style option creates a scatterplot; without it, we only have lines.\n",
    "plt.title('Living Space vs Total Rent')  \n",
    "plt.xlabel('Living Space')  \n",
    "plt.ylabel('Total Rent')  \n",
    "plt.show()"
   ]
  },
  {
   "cell_type": "code",
   "execution_count": 32,
   "id": "556559ee-fb64-4854-8064-f7e88efdbf0f",
   "metadata": {},
   "outputs": [],
   "source": [
    "# Reshape the variables into NumPy arrays and put them into separate objects.\n",
    "X = df['Living Space'].values.reshape(-1,1)\n",
    "y = df['Total Rent'].values.reshape(-1,1)"
   ]
  },
  {
   "cell_type": "code",
   "execution_count": 33,
   "id": "6bdeeb89-2d15-4d2f-96e4-ae2f9302e870",
   "metadata": {},
   "outputs": [
    {
     "data": {
      "text/plain": [
       "array([[ 86.  ],\n",
       "       [ 83.8 ],\n",
       "       [ 84.97],\n",
       "       ...,\n",
       "       [115.  ],\n",
       "       [ 95.  ],\n",
       "       [ 70.  ]])"
      ]
     },
     "execution_count": 33,
     "metadata": {},
     "output_type": "execute_result"
    }
   ],
   "source": [
    "X"
   ]
  },
  {
   "cell_type": "code",
   "execution_count": 34,
   "id": "b84bbb58-abd4-4497-be7f-9aefdb1d6e44",
   "metadata": {},
   "outputs": [
    {
     "data": {
      "text/plain": [
       "array([[ 840.],\n",
       "       [1300.],\n",
       "       [ 903.],\n",
       "       ...,\n",
       "       [1150.],\n",
       "       [ 930.],\n",
       "       [1015.]])"
      ]
     },
     "execution_count": 34,
     "metadata": {},
     "output_type": "execute_result"
    }
   ],
   "source": [
    "y"
   ]
  },
  {
   "cell_type": "code",
   "execution_count": 35,
   "id": "619a3108-f09a-4f52-aeda-16415e30fe34",
   "metadata": {},
   "outputs": [],
   "source": [
    "# Split data into a training set and a test set.  Using test_train_split\n",
    "X_train,X_test,y_train,y_test = train_test_split(X,y,test_size = 0.3,random_state = 0)"
   ]
  },
  {
   "cell_type": "markdown",
   "id": "6f9f1d19-7625-41e9-8b0d-2c55c8ba04fe",
   "metadata": {},
   "source": [
    "# Regression Analysis"
   ]
  },
  {
   "cell_type": "code",
   "execution_count": 36,
   "id": "b8e62f88-36a6-4a00-8e17-2863924ccc34",
   "metadata": {},
   "outputs": [],
   "source": [
    "# Create regression object\n",
    "regression = LinearRegression()"
   ]
  },
  {
   "cell_type": "code",
   "execution_count": 37,
   "id": "53a1349a-b133-4284-b5fe-b45023c712b6",
   "metadata": {},
   "outputs": [
    {
     "data": {
      "text/plain": [
       "LinearRegression()"
      ]
     },
     "execution_count": 37,
     "metadata": {},
     "output_type": "execute_result"
    }
   ],
   "source": [
    "# Fit the regression to the training set of each variable.  This trains the model.\n",
    "regression.fit(X_train, y_train)\n"
   ]
  },
  {
   "cell_type": "code",
   "execution_count": 38,
   "id": "ff6ee329-ad17-4ab8-8ef7-8c5abfd4a9e1",
   "metadata": {},
   "outputs": [],
   "source": [
    "# Apply model to x_test data to predict y values\n",
    "y_predicted = regression.predict(X_test)"
   ]
  },
  {
   "cell_type": "code",
   "execution_count": 39,
   "id": "c3ffda09-3344-470c-9eb4-1f7583ae0edf",
   "metadata": {},
   "outputs": [
    {
     "data": {
      "image/png": "[encoded data removed]",
      "text/plain": [
       "<Figure size 432x288 with 1 Axes>"
      ]
     },
     "metadata": {
      "needs_background": "light"
     },
     "output_type": "display_data"
    }
   ],
   "source": [
    "# Create a plot that shows the regression line from the model on the test set.\n",
    "plot_test = plt\n",
    "plot_test.scatter(X_test, y_test, color='gray', s = 15)\n",
    "plot_test.plot(X_test, y_predicted, color='red', linewidth =3)\n",
    "plot_test.title('Living Space vs Total Rent (Test set)')\n",
    "plot_test.xlabel('Living Space')\n",
    "plot_test.ylabel('Total Rent')\n",
    "plot_test.show()"
   ]
  },
  {
   "cell_type": "markdown",
   "id": "9b73e6d5-3d72-4243-91c4-444e17c37c94",
   "metadata": {},
   "source": [
    "### The line fit the data very well. This can see by the line connects most of the data. There is a linear relationship bewteen the two variables"
   ]
  },
  {
   "cell_type": "code",
   "execution_count": 40,
   "id": "675acf26-0876-44ee-9775-7ed9f36a570f",
   "metadata": {},
   "outputs": [],
   "source": [
    "# Check the slope, MSE and R2 score.\n",
    "# Create objects that contain the model summary statistics.\n",
    "rmse = mean_squared_error(y_test, y_predicted)\n",
    "r2 = r2_score(y_test, y_predicted)"
   ]
  },
  {
   "cell_type": "code",
   "execution_count": 41,
   "id": "dad43c6c-c228-4bff-9067-9084088f8467",
   "metadata": {},
   "outputs": [
    {
     "name": "stdout",
     "output_type": "stream",
     "text": [
      "Slope: [[9.0087065]]\n",
      "Mean squared error:  20157651.754622985\n",
      "R2 score:  -50.41410880859346\n"
     ]
    }
   ],
   "source": [
    "# Print the model summary statistics. This is where you evaluate the performance of the model.\n",
    "\n",
    "print('Slope:' ,regression.coef_)\n",
    "print('Mean squared error: ', rmse)\n",
    "print('R2 score: ', r2)"
   ]
  },
  {
   "cell_type": "code",
   "execution_count": 42,
   "id": "9253fa1f-4046-426b-8aec-df0e9f0e6721",
   "metadata": {},
   "outputs": [
    {
     "data": {
      "text/html": [
       "<div>\n",
       "<style scoped>\n",
       "    .dataframe tbody tr th:only-of-type {\n",
       "        vertical-align: middle;\n",
       "    }\n",
       "\n",
       "    .dataframe tbody tr th {\n",
       "        vertical-align: top;\n",
       "    }\n",
       "\n",
       "    .dataframe thead th {\n",
       "        text-align: right;\n",
       "    }\n",
       "</style>\n",
       "<table border=\"1\" class=\"dataframe\">\n",
       "  <thead>\n",
       "    <tr style=\"text-align: right;\">\n",
       "      <th></th>\n",
       "      <th>Actual</th>\n",
       "      <th>Predicted</th>\n",
       "    </tr>\n",
       "  </thead>\n",
       "  <tbody>\n",
       "    <tr>\n",
       "      <th>0</th>\n",
       "      <td>829.98</td>\n",
       "      <td>1099.118856</td>\n",
       "    </tr>\n",
       "    <tr>\n",
       "      <th>1</th>\n",
       "      <td>1238.00</td>\n",
       "      <td>744.175820</td>\n",
       "    </tr>\n",
       "    <tr>\n",
       "      <th>2</th>\n",
       "      <td>494.79</td>\n",
       "      <td>579.136317</td>\n",
       "    </tr>\n",
       "    <tr>\n",
       "      <th>3</th>\n",
       "      <td>540.00</td>\n",
       "      <td>277.524824</td>\n",
       "    </tr>\n",
       "    <tr>\n",
       "      <th>4</th>\n",
       "      <td>1967.28</td>\n",
       "      <td>957.772251</td>\n",
       "    </tr>\n",
       "    <tr>\n",
       "      <th>5</th>\n",
       "      <td>245.00</td>\n",
       "      <td>455.897212</td>\n",
       "    </tr>\n",
       "    <tr>\n",
       "      <th>6</th>\n",
       "      <td>470.00</td>\n",
       "      <td>681.114875</td>\n",
       "    </tr>\n",
       "    <tr>\n",
       "      <th>7</th>\n",
       "      <td>405.00</td>\n",
       "      <td>681.114875</td>\n",
       "    </tr>\n",
       "    <tr>\n",
       "      <th>8</th>\n",
       "      <td>410.00</td>\n",
       "      <td>699.132288</td>\n",
       "    </tr>\n",
       "    <tr>\n",
       "      <th>9</th>\n",
       "      <td>800.00</td>\n",
       "      <td>987.410896</td>\n",
       "    </tr>\n",
       "    <tr>\n",
       "      <th>10</th>\n",
       "      <td>410.00</td>\n",
       "      <td>661.295720</td>\n",
       "    </tr>\n",
       "    <tr>\n",
       "      <th>11</th>\n",
       "      <td>595.00</td>\n",
       "      <td>825.254179</td>\n",
       "    </tr>\n",
       "    <tr>\n",
       "      <th>12</th>\n",
       "      <td>509.00</td>\n",
       "      <td>622.558283</td>\n",
       "    </tr>\n",
       "    <tr>\n",
       "      <th>13</th>\n",
       "      <td>921.04</td>\n",
       "      <td>785.886131</td>\n",
       "    </tr>\n",
       "    <tr>\n",
       "      <th>14</th>\n",
       "      <td>492.78</td>\n",
       "      <td>752.463830</td>\n",
       "    </tr>\n",
       "    <tr>\n",
       "      <th>15</th>\n",
       "      <td>805.00</td>\n",
       "      <td>996.419602</td>\n",
       "    </tr>\n",
       "    <tr>\n",
       "      <th>16</th>\n",
       "      <td>1070.00</td>\n",
       "      <td>1312.625200</td>\n",
       "    </tr>\n",
       "    <tr>\n",
       "      <th>17</th>\n",
       "      <td>1930.00</td>\n",
       "      <td>915.341244</td>\n",
       "    </tr>\n",
       "    <tr>\n",
       "      <th>18</th>\n",
       "      <td>810.00</td>\n",
       "      <td>789.219353</td>\n",
       "    </tr>\n",
       "    <tr>\n",
       "      <th>19</th>\n",
       "      <td>800.00</td>\n",
       "      <td>1158.576319</td>\n",
       "    </tr>\n",
       "    <tr>\n",
       "      <th>20</th>\n",
       "      <td>856.00</td>\n",
       "      <td>1019.481891</td>\n",
       "    </tr>\n",
       "    <tr>\n",
       "      <th>21</th>\n",
       "      <td>589.00</td>\n",
       "      <td>852.280298</td>\n",
       "    </tr>\n",
       "    <tr>\n",
       "      <th>22</th>\n",
       "      <td>602.00</td>\n",
       "      <td>644.719701</td>\n",
       "    </tr>\n",
       "    <tr>\n",
       "      <th>23</th>\n",
       "      <td>640.00</td>\n",
       "      <td>753.184527</td>\n",
       "    </tr>\n",
       "    <tr>\n",
       "      <th>24</th>\n",
       "      <td>350.00</td>\n",
       "      <td>573.010397</td>\n",
       "    </tr>\n",
       "    <tr>\n",
       "      <th>25</th>\n",
       "      <td>477.53</td>\n",
       "      <td>670.844949</td>\n",
       "    </tr>\n",
       "    <tr>\n",
       "      <th>26</th>\n",
       "      <td>725.00</td>\n",
       "      <td>933.358657</td>\n",
       "    </tr>\n",
       "    <tr>\n",
       "      <th>27</th>\n",
       "      <td>1430.00</td>\n",
       "      <td>1230.645971</td>\n",
       "    </tr>\n",
       "    <tr>\n",
       "      <th>28</th>\n",
       "      <td>380.00</td>\n",
       "      <td>591.027810</td>\n",
       "    </tr>\n",
       "    <tr>\n",
       "      <th>29</th>\n",
       "      <td>660.00</td>\n",
       "      <td>627.062636</td>\n",
       "    </tr>\n",
       "  </tbody>\n",
       "</table>\n",
       "</div>"
      ],
      "text/plain": [
       "     Actual    Predicted\n",
       "0    829.98  1099.118856\n",
       "1   1238.00   744.175820\n",
       "2    494.79   579.136317\n",
       "3    540.00   277.524824\n",
       "4   1967.28   957.772251\n",
       "5    245.00   455.897212\n",
       "6    470.00   681.114875\n",
       "7    405.00   681.114875\n",
       "8    410.00   699.132288\n",
       "9    800.00   987.410896\n",
       "10   410.00   661.295720\n",
       "11   595.00   825.254179\n",
       "12   509.00   622.558283\n",
       "13   921.04   785.886131\n",
       "14   492.78   752.463830\n",
       "15   805.00   996.419602\n",
       "16  1070.00  1312.625200\n",
       "17  1930.00   915.341244\n",
       "18   810.00   789.219353\n",
       "19   800.00  1158.576319\n",
       "20   856.00  1019.481891\n",
       "21   589.00   852.280298\n",
       "22   602.00   644.719701\n",
       "23   640.00   753.184527\n",
       "24   350.00   573.010397\n",
       "25   477.53   670.844949\n",
       "26   725.00   933.358657\n",
       "27  1430.00  1230.645971\n",
       "28   380.00   591.027810\n",
       "29   660.00   627.062636"
      ]
     },
     "execution_count": 42,
     "metadata": {},
     "output_type": "execute_result"
    }
   ],
   "source": [
    "# Create a dataframe comparing the actual and predicted values of y.\n",
    "\n",
    "data = pd.DataFrame({'Actual': y_test.flatten(), 'Predicted': y_predicted.flatten()})\n",
    "data.head(30)"
   ]
  },
  {
   "cell_type": "markdown",
   "id": "73f028dd-4030-4bd1-99d9-46f659c3b428",
   "metadata": {},
   "source": [
    "### The summary of the model comfirm that the model is inaccurate. Which can seen by the actual and predicted values. An R2 of -50.41 indicateds a very poor fit and the large MSE comfirms this. The slope of 9 shows that as living space increase the Total Rent Increases"
   ]
  },
  {
   "cell_type": "code",
   "execution_count": 43,
   "id": "8c3a65ca-30b5-4b86-ad0d-66eb52b6f8eb",
   "metadata": {},
   "outputs": [],
   "source": [
    "# Predict on the training set\n",
    "\n",
    "y_predicted_train = regression.predict(X_train) # This is predicting X_train!"
   ]
  },
  {
   "cell_type": "code",
   "execution_count": 44,
   "id": "eb98373e-38a5-4a9e-a95b-dfa8669b7cb0",
   "metadata": {},
   "outputs": [],
   "source": [
    "rmse = mean_squared_error(y_train, y_predicted_train)\n",
    "r2 = r2_score(y_train, y_predicted_train)"
   ]
  },
  {
   "cell_type": "code",
   "execution_count": 45,
   "id": "10d6bb49-25e6-4522-8e0d-3dcbb0699550",
   "metadata": {},
   "outputs": [
    {
     "name": "stdout",
     "output_type": "stream",
     "text": [
      "Slope: [[9.0087065]]\n",
      "Mean squared error:  247082.5096115781\n",
      "R2 score:  0.32355125143146557\n"
     ]
    }
   ],
   "source": [
    "print('Slope:' ,regression.coef_)\n",
    "print('Mean squared error: ', rmse)\n",
    "print('R2 score: ', r2)"
   ]
  },
  {
   "cell_type": "code",
   "execution_count": 47,
   "id": "23b0fbb4-1e99-4045-addf-6749429316f3",
   "metadata": {},
   "outputs": [
    {
     "data": {
      "image/png": "[encoded data removed]",
      "text/plain": [
       "<Figure size 432x288 with 1 Axes>"
      ]
     },
     "metadata": {
      "needs_background": "light"
     },
     "output_type": "display_data"
    }
   ],
   "source": [
    "plot_test = plt\n",
    "plot_test.scatter(X_train, y_train, color='green', s = 15)\n",
    "plot_test.plot(X_train, y_predicted_train, color='red', linewidth =3)\n",
    "plot_test.title('Living Space vs Total Rent (Train set)')\n",
    "plot_test.xlabel('Living Space')\n",
    "plot_test.ylabel('Total Rent')\n",
    "plot_test.show()"
   ]
  },
  {
   "cell_type": "markdown",
   "id": "1151b3ba-23ee-423d-acc3-a62d99d1309b",
   "metadata": {},
   "source": [
    "### The Model outcome of the Training Set is very different on the test set. WIth the MSE being smaller on the train set. Comfirming that it is good model to use since the slope is 9 for both sets saying that the Living Space will increases so as the toal rent"
   ]
  },
  {
   "cell_type": "code",
   "execution_count": 49,
   "id": "c180ef57-f37b-4191-aa23-aee4293e6df9",
   "metadata": {},
   "outputs": [
    {
     "data": {
      "text/html": [
       "<div>\n",
       "<style scoped>\n",
       "    .dataframe tbody tr th:only-of-type {\n",
       "        vertical-align: middle;\n",
       "    }\n",
       "\n",
       "    .dataframe tbody tr th {\n",
       "        vertical-align: top;\n",
       "    }\n",
       "\n",
       "    .dataframe thead th {\n",
       "        text-align: right;\n",
       "    }\n",
       "</style>\n",
       "<table border=\"1\" class=\"dataframe\">\n",
       "  <thead>\n",
       "    <tr style=\"text-align: right;\">\n",
       "      <th></th>\n",
       "      <th>State</th>\n",
       "      <th>Service Charge</th>\n",
       "      <th>Heating Type</th>\n",
       "      <th>Telekom-Tv Offer</th>\n",
       "      <th>Newly Construction</th>\n",
       "      <th>Balcony</th>\n",
       "      <th>Picture_count</th>\n",
       "      <th>Price_Trend</th>\n",
       "      <th>Telekom Upload Speed</th>\n",
       "      <th>Total Rent</th>\n",
       "      <th>...</th>\n",
       "      <th>Base Rent</th>\n",
       "      <th>Living Space</th>\n",
       "      <th>Pets Allowed</th>\n",
       "      <th>Lift</th>\n",
       "      <th>Type Of Flat</th>\n",
       "      <th>Rooms</th>\n",
       "      <th>Floor</th>\n",
       "      <th>Garden</th>\n",
       "      <th>date</th>\n",
       "      <th>Cost_Of_living</th>\n",
       "    </tr>\n",
       "  </thead>\n",
       "  <tbody>\n",
       "    <tr>\n",
       "      <th>43964</th>\n",
       "      <td>Brandenburg</td>\n",
       "      <td>146.00</td>\n",
       "      <td>central_heating</td>\n",
       "      <td>ONE_YEAR_FREE</td>\n",
       "      <td>False</td>\n",
       "      <td>False</td>\n",
       "      <td>8</td>\n",
       "      <td>4.33</td>\n",
       "      <td>2.4</td>\n",
       "      <td>650.0</td>\n",
       "      <td>...</td>\n",
       "      <td>504.0</td>\n",
       "      <td>8684.0</td>\n",
       "      <td>NaN</td>\n",
       "      <td>False</td>\n",
       "      <td>NaN</td>\n",
       "      <td>3.0</td>\n",
       "      <td>4.0</td>\n",
       "      <td>True</td>\n",
       "      <td>Oct19</td>\n",
       "      <td>Median</td>\n",
       "    </tr>\n",
       "    <tr>\n",
       "      <th>128737</th>\n",
       "      <td>Bayern</td>\n",
       "      <td>115.00</td>\n",
       "      <td>central_heating</td>\n",
       "      <td>ONE_YEAR_FREE</td>\n",
       "      <td>False</td>\n",
       "      <td>False</td>\n",
       "      <td>23</td>\n",
       "      <td>6.09</td>\n",
       "      <td>40.0</td>\n",
       "      <td>1400.0</td>\n",
       "      <td>...</td>\n",
       "      <td>1200.0</td>\n",
       "      <td>66100.0</td>\n",
       "      <td>negotiable</td>\n",
       "      <td>False</td>\n",
       "      <td>roof_storey</td>\n",
       "      <td>2.0</td>\n",
       "      <td>2.0</td>\n",
       "      <td>True</td>\n",
       "      <td>May19</td>\n",
       "      <td>Expensive</td>\n",
       "    </tr>\n",
       "    <tr>\n",
       "      <th>146725</th>\n",
       "      <td>Sachsen</td>\n",
       "      <td>60.00</td>\n",
       "      <td>central_heating</td>\n",
       "      <td>ONE_YEAR_FREE</td>\n",
       "      <td>False</td>\n",
       "      <td>False</td>\n",
       "      <td>5</td>\n",
       "      <td>1.24</td>\n",
       "      <td>2.4</td>\n",
       "      <td>260.0</td>\n",
       "      <td>...</td>\n",
       "      <td>200.0</td>\n",
       "      <td>4340.0</td>\n",
       "      <td>negotiable</td>\n",
       "      <td>False</td>\n",
       "      <td>apartment</td>\n",
       "      <td>2.0</td>\n",
       "      <td>1.0</td>\n",
       "      <td>False</td>\n",
       "      <td>May19</td>\n",
       "      <td>Cheapest</td>\n",
       "    </tr>\n",
       "    <tr>\n",
       "      <th>149259</th>\n",
       "      <td>Sachsen_Anhalt</td>\n",
       "      <td>NaN</td>\n",
       "      <td>NaN</td>\n",
       "      <td>NaN</td>\n",
       "      <td>False</td>\n",
       "      <td>False</td>\n",
       "      <td>0</td>\n",
       "      <td>4.61</td>\n",
       "      <td>NaN</td>\n",
       "      <td>369.0</td>\n",
       "      <td>...</td>\n",
       "      <td>679.0</td>\n",
       "      <td>111111.0</td>\n",
       "      <td>NaN</td>\n",
       "      <td>False</td>\n",
       "      <td>apartment</td>\n",
       "      <td>3.0</td>\n",
       "      <td>NaN</td>\n",
       "      <td>False</td>\n",
       "      <td>Oct19</td>\n",
       "      <td>Cheapest</td>\n",
       "    </tr>\n",
       "    <tr>\n",
       "      <th>189743</th>\n",
       "      <td>Hessen</td>\n",
       "      <td>128.25</td>\n",
       "      <td>district_heating</td>\n",
       "      <td>ONE_YEAR_FREE</td>\n",
       "      <td>False</td>\n",
       "      <td>True</td>\n",
       "      <td>11</td>\n",
       "      <td>6.17</td>\n",
       "      <td>2.4</td>\n",
       "      <td>1641.5</td>\n",
       "      <td>...</td>\n",
       "      <td>1385.0</td>\n",
       "      <td>10259.0</td>\n",
       "      <td>yes</td>\n",
       "      <td>True</td>\n",
       "      <td>apartment</td>\n",
       "      <td>3.0</td>\n",
       "      <td>1.0</td>\n",
       "      <td>True</td>\n",
       "      <td>May19</td>\n",
       "      <td>Expensive</td>\n",
       "    </tr>\n",
       "  </tbody>\n",
       "</table>\n",
       "<p>5 rows × 24 columns</p>\n",
       "</div>"
      ],
      "text/plain": [
       "                 State  Service Charge      Heating Type Telekom-Tv Offer  \\\n",
       "43964      Brandenburg          146.00   central_heating    ONE_YEAR_FREE   \n",
       "128737          Bayern          115.00   central_heating    ONE_YEAR_FREE   \n",
       "146725         Sachsen           60.00   central_heating    ONE_YEAR_FREE   \n",
       "149259  Sachsen_Anhalt             NaN               NaN              NaN   \n",
       "189743          Hessen          128.25  district_heating    ONE_YEAR_FREE   \n",
       "\n",
       "        Newly Construction  Balcony  Picture_count  Price_Trend  \\\n",
       "43964                False    False              8         4.33   \n",
       "128737               False    False             23         6.09   \n",
       "146725               False    False              5         1.24   \n",
       "149259               False    False              0         4.61   \n",
       "189743               False     True             11         6.17   \n",
       "\n",
       "        Telekom Upload Speed  Total Rent  ...  Base Rent  Living Space  \\\n",
       "43964                    2.4       650.0  ...      504.0        8684.0   \n",
       "128737                  40.0      1400.0  ...     1200.0       66100.0   \n",
       "146725                   2.4       260.0  ...      200.0        4340.0   \n",
       "149259                   NaN       369.0  ...      679.0      111111.0   \n",
       "189743                   2.4      1641.5  ...     1385.0       10259.0   \n",
       "\n",
       "        Pets Allowed   Lift  Type Of Flat  Rooms Floor  Garden   date  \\\n",
       "43964            NaN  False           NaN    3.0   4.0    True  Oct19   \n",
       "128737    negotiable  False   roof_storey    2.0   2.0    True  May19   \n",
       "146725    negotiable  False     apartment    2.0   1.0   False  May19   \n",
       "149259           NaN  False     apartment    3.0   NaN   False  Oct19   \n",
       "189743           yes   True     apartment    3.0   1.0    True  May19   \n",
       "\n",
       "        Cost_Of_living  \n",
       "43964           Median  \n",
       "128737       Expensive  \n",
       "146725        Cheapest  \n",
       "149259        Cheapest  \n",
       "189743       Expensive  \n",
       "\n",
       "[5 rows x 24 columns]"
      ]
     },
     "execution_count": 49,
     "metadata": {},
     "output_type": "execute_result"
    }
   ],
   "source": [
    "# Hypothesis 2: Having more Rooms in your House will increase the Total Rent"
   ]
  },
  {
   "cell_type": "code",
   "execution_count": 50,
   "id": "462ec30b-a6ca-40fb-9e01-48f7be0237be",
   "metadata": {},
   "outputs": [
    {
     "data": {
      "image/png": "[encoded data removed]",
      "text/plain": [
       "<Figure size 432x288 with 1 Axes>"
      ]
     },
     "metadata": {
      "needs_background": "light"
     },
     "output_type": "display_data"
    }
   ],
   "source": [
    "# Create a scatterplot using matplotlib for another look at how the chosen variables plot against each other.\n",
    "\n",
    "df.plot(x = 'Rooms', y='Total Rent',style='o') # The style option creates a scatterplot; without it, we only have lines.\n",
    "plt.title('Rooms vs Total Rent')  \n",
    "plt.xlabel('Rooms')  \n",
    "plt.ylabel('Total Rent')  \n",
    "plt.show()"
   ]
  },
  {
   "cell_type": "code",
   "execution_count": 65,
   "id": "1745ab46-ffcd-40c1-9041-1a9c86c409ad",
   "metadata": {},
   "outputs": [],
   "source": [
    "# Reshape the variables into NumPy arrays and put them into separate objects.\n",
    "\n",
    "X = df['Rooms'].values.reshape(-1,1)\n",
    "y = df['Total Rent'].values.reshape(-1,1)"
   ]
  },
  {
   "cell_type": "code",
   "execution_count": 66,
   "id": "2a281eec-f52a-4421-840c-5ef89fa6d1c8",
   "metadata": {},
   "outputs": [
    {
     "data": {
      "text/plain": [
       "array([[4. ],\n",
       "       [3. ],\n",
       "       [3. ],\n",
       "       ...,\n",
       "       [3.5],\n",
       "       [4. ],\n",
       "       [2. ]])"
      ]
     },
     "execution_count": 66,
     "metadata": {},
     "output_type": "execute_result"
    }
   ],
   "source": [
    "X"
   ]
  },
  {
   "cell_type": "code",
   "execution_count": 67,
   "id": "148f4544-868a-40dc-b6df-6a23ced6d451",
   "metadata": {},
   "outputs": [
    {
     "data": {
      "text/plain": [
       "array([[ 840.],\n",
       "       [1300.],\n",
       "       [ 903.],\n",
       "       ...,\n",
       "       [1150.],\n",
       "       [ 930.],\n",
       "       [1015.]])"
      ]
     },
     "execution_count": 67,
     "metadata": {},
     "output_type": "execute_result"
    }
   ],
   "source": [
    "y"
   ]
  },
  {
   "cell_type": "code",
   "execution_count": 68,
   "id": "bb5b5140-3ead-4311-80f9-9df095289d5e",
   "metadata": {},
   "outputs": [],
   "source": [
    "# Split data into a training set and a test set.  Using test_train_split\n",
    "X_train, X_test, y_train, y_test = train_test_split(X,y,test_size = 0.3, random_state =0)"
   ]
  },
  {
   "cell_type": "markdown",
   "id": "4d6d5a13-d927-4156-b4fd-1a988b698b60",
   "metadata": {},
   "source": [
    "# Regression Analysis"
   ]
  },
  {
   "cell_type": "code",
   "execution_count": 69,
   "id": "eda3fc2f-739e-4f3b-acd7-c6b5216044f0",
   "metadata": {},
   "outputs": [
    {
     "data": {
      "text/plain": [
       "LinearRegression()"
      ]
     },
     "execution_count": 69,
     "metadata": {},
     "output_type": "execute_result"
    }
   ],
   "source": [
    "regression.fit(X_train, y_train)"
   ]
  },
  {
   "cell_type": "code",
   "execution_count": 70,
   "id": "0337de3e-a56a-46bd-9e8a-3fe2e8b3f8e5",
   "metadata": {},
   "outputs": [],
   "source": [
    "y_predicted = regression.predict(X_test)"
   ]
  },
  {
   "cell_type": "code",
   "execution_count": 57,
   "id": "f31d032d-753c-4f18-897d-60299ec0c95b",
   "metadata": {},
   "outputs": [
    {
     "name": "stdout",
     "output_type": "stream",
     "text": [
      "Slope: [[9.0087065]]\n",
      "Mean squared error:  20157651.754622985\n",
      "R2 score:  -50.41410880859346\n"
     ]
    }
   ],
   "source": [
    "# Check summary stats\n",
    "print('Slope:' ,regression.coef_)\n",
    "print('Mean squared error: ', rmse)\n",
    "print('R2 score: ', r2)"
   ]
  },
  {
   "cell_type": "code",
   "execution_count": 71,
   "id": "8edd1495-bcf1-43da-be73-32ad2a7d413b",
   "metadata": {},
   "outputs": [
    {
     "data": {
      "image/png": "[encoded data removed]",
      "text/plain": [
       "<Figure size 432x288 with 1 Axes>"
      ]
     },
     "metadata": {
      "needs_background": "light"
     },
     "output_type": "display_data"
    }
   ],
   "source": [
    "# Create a plot that shows the regression line from the model on the test set.\n",
    "plot_test = plt\n",
    "plot_test.scatter(X_test, y_test, color='green', s = 15)\n",
    "plot_test.plot(X_test, y_predicted, color='red', linewidth =3)\n",
    "plot_test.title('Rooms vs Total Rent(Test set)')\n",
    "plot_test.xlabel('Rooms')\n",
    "plot_test.ylabel('Total Rent')\n",
    "plot_test.show()"
   ]
  },
  {
   "cell_type": "code",
   "execution_count": 72,
   "id": "f284324a-39ab-442b-82df-03aefc2d6696",
   "metadata": {},
   "outputs": [],
   "source": [
    "# Check the slope, MSE and R2 score.\n",
    "# Create objects that contain the model summary statistics.\n",
    "rmse = mean_squared_error(y_test, y_predicted)\n",
    "r2 = r2_score(y_test, y_predicted)"
   ]
  },
  {
   "cell_type": "code",
   "execution_count": 73,
   "id": "a913350c-244c-4ca3-ae04-b38988679757",
   "metadata": {},
   "outputs": [
    {
     "name": "stdout",
     "output_type": "stream",
     "text": [
      "Slope: [[273.07657163]]\n",
      "Mean squared error:  323352.5077078358\n",
      "R2 score:  0.175257057855985\n"
     ]
    }
   ],
   "source": [
    "# Check summary stats\n",
    "print('Slope:' ,regression.coef_)\n",
    "print('Mean squared error: ', rmse)\n",
    "print('R2 score: ', r2)"
   ]
  },
  {
   "cell_type": "code",
   "execution_count": 74,
   "id": "443608e3-f44a-49d9-891f-4f16a758e608",
   "metadata": {},
   "outputs": [
    {
     "data": {
      "text/html": [
       "<div>\n",
       "<style scoped>\n",
       "    .dataframe tbody tr th:only-of-type {\n",
       "        vertical-align: middle;\n",
       "    }\n",
       "\n",
       "    .dataframe tbody tr th {\n",
       "        vertical-align: top;\n",
       "    }\n",
       "\n",
       "    .dataframe thead th {\n",
       "        text-align: right;\n",
       "    }\n",
       "</style>\n",
       "<table border=\"1\" class=\"dataframe\">\n",
       "  <thead>\n",
       "    <tr style=\"text-align: right;\">\n",
       "      <th></th>\n",
       "      <th>Actual</th>\n",
       "      <th>Predicted</th>\n",
       "    </tr>\n",
       "  </thead>\n",
       "  <tbody>\n",
       "    <tr>\n",
       "      <th>0</th>\n",
       "      <td>829.98</td>\n",
       "      <td>1099.118856</td>\n",
       "    </tr>\n",
       "    <tr>\n",
       "      <th>1</th>\n",
       "      <td>1238.00</td>\n",
       "      <td>744.175820</td>\n",
       "    </tr>\n",
       "    <tr>\n",
       "      <th>2</th>\n",
       "      <td>494.79</td>\n",
       "      <td>579.136317</td>\n",
       "    </tr>\n",
       "    <tr>\n",
       "      <th>3</th>\n",
       "      <td>540.00</td>\n",
       "      <td>277.524824</td>\n",
       "    </tr>\n",
       "    <tr>\n",
       "      <th>4</th>\n",
       "      <td>1967.28</td>\n",
       "      <td>957.772251</td>\n",
       "    </tr>\n",
       "    <tr>\n",
       "      <th>5</th>\n",
       "      <td>245.00</td>\n",
       "      <td>455.897212</td>\n",
       "    </tr>\n",
       "    <tr>\n",
       "      <th>6</th>\n",
       "      <td>470.00</td>\n",
       "      <td>681.114875</td>\n",
       "    </tr>\n",
       "    <tr>\n",
       "      <th>7</th>\n",
       "      <td>405.00</td>\n",
       "      <td>681.114875</td>\n",
       "    </tr>\n",
       "    <tr>\n",
       "      <th>8</th>\n",
       "      <td>410.00</td>\n",
       "      <td>699.132288</td>\n",
       "    </tr>\n",
       "    <tr>\n",
       "      <th>9</th>\n",
       "      <td>800.00</td>\n",
       "      <td>987.410896</td>\n",
       "    </tr>\n",
       "    <tr>\n",
       "      <th>10</th>\n",
       "      <td>410.00</td>\n",
       "      <td>661.295720</td>\n",
       "    </tr>\n",
       "    <tr>\n",
       "      <th>11</th>\n",
       "      <td>595.00</td>\n",
       "      <td>825.254179</td>\n",
       "    </tr>\n",
       "    <tr>\n",
       "      <th>12</th>\n",
       "      <td>509.00</td>\n",
       "      <td>622.558283</td>\n",
       "    </tr>\n",
       "    <tr>\n",
       "      <th>13</th>\n",
       "      <td>921.04</td>\n",
       "      <td>785.886131</td>\n",
       "    </tr>\n",
       "    <tr>\n",
       "      <th>14</th>\n",
       "      <td>492.78</td>\n",
       "      <td>752.463830</td>\n",
       "    </tr>\n",
       "    <tr>\n",
       "      <th>15</th>\n",
       "      <td>805.00</td>\n",
       "      <td>996.419602</td>\n",
       "    </tr>\n",
       "    <tr>\n",
       "      <th>16</th>\n",
       "      <td>1070.00</td>\n",
       "      <td>1312.625200</td>\n",
       "    </tr>\n",
       "    <tr>\n",
       "      <th>17</th>\n",
       "      <td>1930.00</td>\n",
       "      <td>915.341244</td>\n",
       "    </tr>\n",
       "    <tr>\n",
       "      <th>18</th>\n",
       "      <td>810.00</td>\n",
       "      <td>789.219353</td>\n",
       "    </tr>\n",
       "    <tr>\n",
       "      <th>19</th>\n",
       "      <td>800.00</td>\n",
       "      <td>1158.576319</td>\n",
       "    </tr>\n",
       "    <tr>\n",
       "      <th>20</th>\n",
       "      <td>856.00</td>\n",
       "      <td>1019.481891</td>\n",
       "    </tr>\n",
       "    <tr>\n",
       "      <th>21</th>\n",
       "      <td>589.00</td>\n",
       "      <td>852.280298</td>\n",
       "    </tr>\n",
       "    <tr>\n",
       "      <th>22</th>\n",
       "      <td>602.00</td>\n",
       "      <td>644.719701</td>\n",
       "    </tr>\n",
       "    <tr>\n",
       "      <th>23</th>\n",
       "      <td>640.00</td>\n",
       "      <td>753.184527</td>\n",
       "    </tr>\n",
       "    <tr>\n",
       "      <th>24</th>\n",
       "      <td>350.00</td>\n",
       "      <td>573.010397</td>\n",
       "    </tr>\n",
       "    <tr>\n",
       "      <th>25</th>\n",
       "      <td>477.53</td>\n",
       "      <td>670.844949</td>\n",
       "    </tr>\n",
       "    <tr>\n",
       "      <th>26</th>\n",
       "      <td>725.00</td>\n",
       "      <td>933.358657</td>\n",
       "    </tr>\n",
       "    <tr>\n",
       "      <th>27</th>\n",
       "      <td>1430.00</td>\n",
       "      <td>1230.645971</td>\n",
       "    </tr>\n",
       "    <tr>\n",
       "      <th>28</th>\n",
       "      <td>380.00</td>\n",
       "      <td>591.027810</td>\n",
       "    </tr>\n",
       "    <tr>\n",
       "      <th>29</th>\n",
       "      <td>660.00</td>\n",
       "      <td>627.062636</td>\n",
       "    </tr>\n",
       "  </tbody>\n",
       "</table>\n",
       "</div>"
      ],
      "text/plain": [
       "     Actual    Predicted\n",
       "0    829.98  1099.118856\n",
       "1   1238.00   744.175820\n",
       "2    494.79   579.136317\n",
       "3    540.00   277.524824\n",
       "4   1967.28   957.772251\n",
       "5    245.00   455.897212\n",
       "6    470.00   681.114875\n",
       "7    405.00   681.114875\n",
       "8    410.00   699.132288\n",
       "9    800.00   987.410896\n",
       "10   410.00   661.295720\n",
       "11   595.00   825.254179\n",
       "12   509.00   622.558283\n",
       "13   921.04   785.886131\n",
       "14   492.78   752.463830\n",
       "15   805.00   996.419602\n",
       "16  1070.00  1312.625200\n",
       "17  1930.00   915.341244\n",
       "18   810.00   789.219353\n",
       "19   800.00  1158.576319\n",
       "20   856.00  1019.481891\n",
       "21   589.00   852.280298\n",
       "22   602.00   644.719701\n",
       "23   640.00   753.184527\n",
       "24   350.00   573.010397\n",
       "25   477.53   670.844949\n",
       "26   725.00   933.358657\n",
       "27  1430.00  1230.645971\n",
       "28   380.00   591.027810\n",
       "29   660.00   627.062636"
      ]
     },
     "execution_count": 74,
     "metadata": {},
     "output_type": "execute_result"
    }
   ],
   "source": [
    "# Create a dataframe comparing the actual and predicted values of y.\n",
    "\n",
    "data1 = pd.DataFrame({'Actual': y_test.flatten(), 'Predicted': y_predicted.flatten()})\n",
    "data.head(30)"
   ]
  },
  {
   "cell_type": "markdown",
   "id": "98489774-91ee-47a4-815b-0f9341ed59db",
   "metadata": {},
   "source": [
    "### The slope is 273 as rooms increase the total rent increase. The MSE is having a large value saying that the data is not very accurate. While R2 is .17 which is a very poor fit. But there is a postive relationship bewteen the two variables. But since the MSE and R2  it not very accurate model\n"
   ]
  },
  {
   "cell_type": "code",
   "execution_count": null,
   "id": "da827755-a33c-41c9-b4bb-5c4d5879e27c",
   "metadata": {},
   "outputs": [],
   "source": []
  }
 ],
 "metadata": {
  "kernelspec": {
   "display_name": "Python 3 (ipykernel)",
   "language": "python",
   "name": "python3"
  },
  "language_info": {
   "codemirror_mode": {
    "name": "ipython",
    "version": 3
   },
   "file_extension": ".py",
   "mimetype": "text/x-python",
   "name": "python",
   "nbconvert_exporter": "python",
   "pygments_lexer": "ipython3",
   "version": "3.9.12"
  }
 },
 "nbformat": 4,
 "nbformat_minor": 5
}
