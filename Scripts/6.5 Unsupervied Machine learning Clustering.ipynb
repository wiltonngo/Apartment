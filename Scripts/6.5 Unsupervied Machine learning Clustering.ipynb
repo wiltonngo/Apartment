{
 "cells": [
  {
   "cell_type": "markdown",
   "id": "27bab73d-9413-4454-b1a0-1a30cada75a0",
   "metadata": {},
   "source": [
    "# Importing Libraries and Dataset"
   ]
  },
  {
   "cell_type": "code",
   "execution_count": 24,
   "id": "363b7cc2-cebc-4cd1-9c3a-6698c55d1656",
   "metadata": {},
   "outputs": [],
   "source": [
    "# Import libraries\n",
    "import pandas as pd\n",
    "import numpy as np\n",
    "import seaborn as sns\n",
    "import matplotlib\n",
    "import matplotlib.pyplot as plt\n",
    "import os\n",
    "import sklearn\n",
    "from sklearn.cluster import KMeans\n",
    "import pylab as pl"
   ]
  },
  {
   "cell_type": "code",
   "execution_count": 25,
   "id": "a8144f07-e1fa-4a9a-8f54-b8f8ac02f3a2",
   "metadata": {},
   "outputs": [],
   "source": [
    "# This command propts matplotlib visuals to appear in the notebook \n",
    "\n",
    "%matplotlib inline"
   ]
  },
  {
   "cell_type": "code",
   "execution_count": 26,
   "id": "2468bd19-5a1f-45fe-bc54-830dd8d52e56",
   "metadata": {},
   "outputs": [],
   "source": [
    "# Import the Dataset\n",
    "df = pd.read_csv('/Users/wiltonngo/Apartment Rentals/ Data/Prepared Data/app2.csv')"
   ]
  },
  {
   "cell_type": "code",
   "execution_count": 27,
   "id": "796e9364-b1e4-49dc-90dc-39e5c10e8a41",
   "metadata": {},
   "outputs": [
    {
     "data": {
      "text/html": [
       "<div>\n",
       "<style scoped>\n",
       "    .dataframe tbody tr th:only-of-type {\n",
       "        vertical-align: middle;\n",
       "    }\n",
       "\n",
       "    .dataframe tbody tr th {\n",
       "        vertical-align: top;\n",
       "    }\n",
       "\n",
       "    .dataframe thead th {\n",
       "        text-align: right;\n",
       "    }\n",
       "</style>\n",
       "<table border=\"1\" class=\"dataframe\">\n",
       "  <thead>\n",
       "    <tr style=\"text-align: right;\">\n",
       "      <th></th>\n",
       "      <th>Unnamed: 0</th>\n",
       "      <th>State</th>\n",
       "      <th>Service Charge</th>\n",
       "      <th>Heating Type</th>\n",
       "      <th>Telekom-Tv Offer</th>\n",
       "      <th>Newly Construction</th>\n",
       "      <th>Balcony</th>\n",
       "      <th>Picture_count</th>\n",
       "      <th>Price_Trend</th>\n",
       "      <th>Telekom Upload Speed</th>\n",
       "      <th>...</th>\n",
       "      <th>Base Rent</th>\n",
       "      <th>Living Space</th>\n",
       "      <th>Pets Allowed</th>\n",
       "      <th>Lift</th>\n",
       "      <th>Type Of Flat</th>\n",
       "      <th>Rooms</th>\n",
       "      <th>Floor</th>\n",
       "      <th>Garden</th>\n",
       "      <th>date</th>\n",
       "      <th>Cost_Of_living</th>\n",
       "    </tr>\n",
       "  </thead>\n",
       "  <tbody>\n",
       "    <tr>\n",
       "      <th>0</th>\n",
       "      <td>0</td>\n",
       "      <td>Nordrhein_Westfalen</td>\n",
       "      <td>245.0</td>\n",
       "      <td>central_heating</td>\n",
       "      <td>ONE_YEAR_FREE</td>\n",
       "      <td>False</td>\n",
       "      <td>False</td>\n",
       "      <td>6</td>\n",
       "      <td>4.62</td>\n",
       "      <td>10.0</td>\n",
       "      <td>...</td>\n",
       "      <td>595.00</td>\n",
       "      <td>86.00</td>\n",
       "      <td>NaN</td>\n",
       "      <td>False</td>\n",
       "      <td>ground_floor</td>\n",
       "      <td>4.0</td>\n",
       "      <td>1.0</td>\n",
       "      <td>True</td>\n",
       "      <td>May19</td>\n",
       "      <td>Median</td>\n",
       "    </tr>\n",
       "    <tr>\n",
       "      <th>1</th>\n",
       "      <td>2</td>\n",
       "      <td>Sachsen</td>\n",
       "      <td>255.0</td>\n",
       "      <td>floor_heating</td>\n",
       "      <td>ONE_YEAR_FREE</td>\n",
       "      <td>True</td>\n",
       "      <td>True</td>\n",
       "      <td>8</td>\n",
       "      <td>2.72</td>\n",
       "      <td>2.4</td>\n",
       "      <td>...</td>\n",
       "      <td>965.00</td>\n",
       "      <td>83.80</td>\n",
       "      <td>NaN</td>\n",
       "      <td>True</td>\n",
       "      <td>apartment</td>\n",
       "      <td>3.0</td>\n",
       "      <td>3.0</td>\n",
       "      <td>False</td>\n",
       "      <td>Oct19</td>\n",
       "      <td>Expensive</td>\n",
       "    </tr>\n",
       "    <tr>\n",
       "      <th>2</th>\n",
       "      <td>4</td>\n",
       "      <td>Bremen</td>\n",
       "      <td>138.0</td>\n",
       "      <td>self_contained_central_heating</td>\n",
       "      <td>NaN</td>\n",
       "      <td>False</td>\n",
       "      <td>True</td>\n",
       "      <td>19</td>\n",
       "      <td>2.46</td>\n",
       "      <td>NaN</td>\n",
       "      <td>...</td>\n",
       "      <td>765.00</td>\n",
       "      <td>84.97</td>\n",
       "      <td>NaN</td>\n",
       "      <td>False</td>\n",
       "      <td>apartment</td>\n",
       "      <td>3.0</td>\n",
       "      <td>1.0</td>\n",
       "      <td>False</td>\n",
       "      <td>Feb20</td>\n",
       "      <td>Expensive</td>\n",
       "    </tr>\n",
       "    <tr>\n",
       "      <th>3</th>\n",
       "      <td>6</td>\n",
       "      <td>Sachsen</td>\n",
       "      <td>70.0</td>\n",
       "      <td>self_contained_central_heating</td>\n",
       "      <td>ONE_YEAR_FREE</td>\n",
       "      <td>False</td>\n",
       "      <td>False</td>\n",
       "      <td>9</td>\n",
       "      <td>1.01</td>\n",
       "      <td>2.4</td>\n",
       "      <td>...</td>\n",
       "      <td>310.00</td>\n",
       "      <td>62.00</td>\n",
       "      <td>NaN</td>\n",
       "      <td>False</td>\n",
       "      <td>NaN</td>\n",
       "      <td>2.0</td>\n",
       "      <td>1.0</td>\n",
       "      <td>True</td>\n",
       "      <td>Feb20</td>\n",
       "      <td>Cheapest</td>\n",
       "    </tr>\n",
       "    <tr>\n",
       "      <th>4</th>\n",
       "      <td>7</td>\n",
       "      <td>Bremen</td>\n",
       "      <td>88.0</td>\n",
       "      <td>central_heating</td>\n",
       "      <td>ONE_YEAR_FREE</td>\n",
       "      <td>False</td>\n",
       "      <td>True</td>\n",
       "      <td>5</td>\n",
       "      <td>1.89</td>\n",
       "      <td>2.4</td>\n",
       "      <td>...</td>\n",
       "      <td>452.25</td>\n",
       "      <td>60.30</td>\n",
       "      <td>NaN</td>\n",
       "      <td>False</td>\n",
       "      <td>ground_floor</td>\n",
       "      <td>3.0</td>\n",
       "      <td>NaN</td>\n",
       "      <td>False</td>\n",
       "      <td>Feb20</td>\n",
       "      <td>Cheapest</td>\n",
       "    </tr>\n",
       "  </tbody>\n",
       "</table>\n",
       "<p>5 rows × 25 columns</p>\n",
       "</div>"
      ],
      "text/plain": [
       "   Unnamed: 0                State  Service Charge  \\\n",
       "0           0  Nordrhein_Westfalen           245.0   \n",
       "1           2              Sachsen           255.0   \n",
       "2           4               Bremen           138.0   \n",
       "3           6              Sachsen            70.0   \n",
       "4           7               Bremen            88.0   \n",
       "\n",
       "                     Heating Type Telekom-Tv Offer  Newly Construction  \\\n",
       "0                 central_heating    ONE_YEAR_FREE               False   \n",
       "1                   floor_heating    ONE_YEAR_FREE                True   \n",
       "2  self_contained_central_heating              NaN               False   \n",
       "3  self_contained_central_heating    ONE_YEAR_FREE               False   \n",
       "4                 central_heating    ONE_YEAR_FREE               False   \n",
       "\n",
       "   Balcony  Picture_count  Price_Trend  Telekom Upload Speed  ...  Base Rent  \\\n",
       "0    False              6         4.62                  10.0  ...     595.00   \n",
       "1     True              8         2.72                   2.4  ...     965.00   \n",
       "2     True             19         2.46                   NaN  ...     765.00   \n",
       "3    False              9         1.01                   2.4  ...     310.00   \n",
       "4     True              5         1.89                   2.4  ...     452.25   \n",
       "\n",
       "   Living Space  Pets Allowed   Lift  Type Of Flat  Rooms  Floor Garden  \\\n",
       "0         86.00           NaN  False  ground_floor    4.0    1.0   True   \n",
       "1         83.80           NaN   True     apartment    3.0    3.0  False   \n",
       "2         84.97           NaN  False     apartment    3.0    1.0  False   \n",
       "3         62.00           NaN  False           NaN    2.0    1.0   True   \n",
       "4         60.30           NaN  False  ground_floor    3.0    NaN  False   \n",
       "\n",
       "    date Cost_Of_living  \n",
       "0  May19         Median  \n",
       "1  Oct19      Expensive  \n",
       "2  Feb20      Expensive  \n",
       "3  Feb20       Cheapest  \n",
       "4  Feb20       Cheapest  \n",
       "\n",
       "[5 rows x 25 columns]"
      ]
     },
     "execution_count": 27,
     "metadata": {},
     "output_type": "execute_result"
    }
   ],
   "source": [
    "df.head()"
   ]
  },
  {
   "cell_type": "code",
   "execution_count": 28,
   "id": "584184c6-78a4-4af9-848d-010dfb90a8b8",
   "metadata": {},
   "outputs": [],
   "source": [
    "# Remove column 'Unnamed: 0'\n",
    "\n",
    "df.drop('Unnamed: 0', axis = 1, inplace = True)"
   ]
  },
  {
   "cell_type": "code",
   "execution_count": 29,
   "id": "41b2327b-a848-44db-8284-0141ba1070db",
   "metadata": {},
   "outputs": [
    {
     "data": {
      "text/html": [
       "<div>\n",
       "<style scoped>\n",
       "    .dataframe tbody tr th:only-of-type {\n",
       "        vertical-align: middle;\n",
       "    }\n",
       "\n",
       "    .dataframe tbody tr th {\n",
       "        vertical-align: top;\n",
       "    }\n",
       "\n",
       "    .dataframe thead th {\n",
       "        text-align: right;\n",
       "    }\n",
       "</style>\n",
       "<table border=\"1\" class=\"dataframe\">\n",
       "  <thead>\n",
       "    <tr style=\"text-align: right;\">\n",
       "      <th></th>\n",
       "      <th>State</th>\n",
       "      <th>Service Charge</th>\n",
       "      <th>Heating Type</th>\n",
       "      <th>Telekom-Tv Offer</th>\n",
       "      <th>Newly Construction</th>\n",
       "      <th>Balcony</th>\n",
       "      <th>Picture_count</th>\n",
       "      <th>Price_Trend</th>\n",
       "      <th>Telekom Upload Speed</th>\n",
       "      <th>Total Rent</th>\n",
       "      <th>...</th>\n",
       "      <th>Base Rent</th>\n",
       "      <th>Living Space</th>\n",
       "      <th>Pets Allowed</th>\n",
       "      <th>Lift</th>\n",
       "      <th>Type Of Flat</th>\n",
       "      <th>Rooms</th>\n",
       "      <th>Floor</th>\n",
       "      <th>Garden</th>\n",
       "      <th>date</th>\n",
       "      <th>Cost_Of_living</th>\n",
       "    </tr>\n",
       "  </thead>\n",
       "  <tbody>\n",
       "    <tr>\n",
       "      <th>0</th>\n",
       "      <td>Nordrhein_Westfalen</td>\n",
       "      <td>245.0</td>\n",
       "      <td>central_heating</td>\n",
       "      <td>ONE_YEAR_FREE</td>\n",
       "      <td>False</td>\n",
       "      <td>False</td>\n",
       "      <td>6</td>\n",
       "      <td>4.62</td>\n",
       "      <td>10.0</td>\n",
       "      <td>840.00</td>\n",
       "      <td>...</td>\n",
       "      <td>595.00</td>\n",
       "      <td>86.00</td>\n",
       "      <td>NaN</td>\n",
       "      <td>False</td>\n",
       "      <td>ground_floor</td>\n",
       "      <td>4.0</td>\n",
       "      <td>1.0</td>\n",
       "      <td>True</td>\n",
       "      <td>May19</td>\n",
       "      <td>Median</td>\n",
       "    </tr>\n",
       "    <tr>\n",
       "      <th>1</th>\n",
       "      <td>Sachsen</td>\n",
       "      <td>255.0</td>\n",
       "      <td>floor_heating</td>\n",
       "      <td>ONE_YEAR_FREE</td>\n",
       "      <td>True</td>\n",
       "      <td>True</td>\n",
       "      <td>8</td>\n",
       "      <td>2.72</td>\n",
       "      <td>2.4</td>\n",
       "      <td>1300.00</td>\n",
       "      <td>...</td>\n",
       "      <td>965.00</td>\n",
       "      <td>83.80</td>\n",
       "      <td>NaN</td>\n",
       "      <td>True</td>\n",
       "      <td>apartment</td>\n",
       "      <td>3.0</td>\n",
       "      <td>3.0</td>\n",
       "      <td>False</td>\n",
       "      <td>Oct19</td>\n",
       "      <td>Expensive</td>\n",
       "    </tr>\n",
       "    <tr>\n",
       "      <th>2</th>\n",
       "      <td>Bremen</td>\n",
       "      <td>138.0</td>\n",
       "      <td>self_contained_central_heating</td>\n",
       "      <td>NaN</td>\n",
       "      <td>False</td>\n",
       "      <td>True</td>\n",
       "      <td>19</td>\n",
       "      <td>2.46</td>\n",
       "      <td>NaN</td>\n",
       "      <td>903.00</td>\n",
       "      <td>...</td>\n",
       "      <td>765.00</td>\n",
       "      <td>84.97</td>\n",
       "      <td>NaN</td>\n",
       "      <td>False</td>\n",
       "      <td>apartment</td>\n",
       "      <td>3.0</td>\n",
       "      <td>1.0</td>\n",
       "      <td>False</td>\n",
       "      <td>Feb20</td>\n",
       "      <td>Expensive</td>\n",
       "    </tr>\n",
       "    <tr>\n",
       "      <th>3</th>\n",
       "      <td>Sachsen</td>\n",
       "      <td>70.0</td>\n",
       "      <td>self_contained_central_heating</td>\n",
       "      <td>ONE_YEAR_FREE</td>\n",
       "      <td>False</td>\n",
       "      <td>False</td>\n",
       "      <td>9</td>\n",
       "      <td>1.01</td>\n",
       "      <td>2.4</td>\n",
       "      <td>380.00</td>\n",
       "      <td>...</td>\n",
       "      <td>310.00</td>\n",
       "      <td>62.00</td>\n",
       "      <td>NaN</td>\n",
       "      <td>False</td>\n",
       "      <td>NaN</td>\n",
       "      <td>2.0</td>\n",
       "      <td>1.0</td>\n",
       "      <td>True</td>\n",
       "      <td>Feb20</td>\n",
       "      <td>Cheapest</td>\n",
       "    </tr>\n",
       "    <tr>\n",
       "      <th>4</th>\n",
       "      <td>Bremen</td>\n",
       "      <td>88.0</td>\n",
       "      <td>central_heating</td>\n",
       "      <td>ONE_YEAR_FREE</td>\n",
       "      <td>False</td>\n",
       "      <td>True</td>\n",
       "      <td>5</td>\n",
       "      <td>1.89</td>\n",
       "      <td>2.4</td>\n",
       "      <td>584.25</td>\n",
       "      <td>...</td>\n",
       "      <td>452.25</td>\n",
       "      <td>60.30</td>\n",
       "      <td>NaN</td>\n",
       "      <td>False</td>\n",
       "      <td>ground_floor</td>\n",
       "      <td>3.0</td>\n",
       "      <td>NaN</td>\n",
       "      <td>False</td>\n",
       "      <td>Feb20</td>\n",
       "      <td>Cheapest</td>\n",
       "    </tr>\n",
       "  </tbody>\n",
       "</table>\n",
       "<p>5 rows × 24 columns</p>\n",
       "</div>"
      ],
      "text/plain": [
       "                 State  Service Charge                    Heating Type  \\\n",
       "0  Nordrhein_Westfalen           245.0                 central_heating   \n",
       "1              Sachsen           255.0                   floor_heating   \n",
       "2               Bremen           138.0  self_contained_central_heating   \n",
       "3              Sachsen            70.0  self_contained_central_heating   \n",
       "4               Bremen            88.0                 central_heating   \n",
       "\n",
       "  Telekom-Tv Offer  Newly Construction  Balcony  Picture_count  Price_Trend  \\\n",
       "0    ONE_YEAR_FREE               False    False              6         4.62   \n",
       "1    ONE_YEAR_FREE                True     True              8         2.72   \n",
       "2              NaN               False     True             19         2.46   \n",
       "3    ONE_YEAR_FREE               False    False              9         1.01   \n",
       "4    ONE_YEAR_FREE               False     True              5         1.89   \n",
       "\n",
       "   Telekom Upload Speed  Total Rent  ...  Base Rent  Living Space  \\\n",
       "0                  10.0      840.00  ...     595.00         86.00   \n",
       "1                   2.4     1300.00  ...     965.00         83.80   \n",
       "2                   NaN      903.00  ...     765.00         84.97   \n",
       "3                   2.4      380.00  ...     310.00         62.00   \n",
       "4                   2.4      584.25  ...     452.25         60.30   \n",
       "\n",
       "   Pets Allowed   Lift  Type Of Flat  Rooms Floor  Garden   date  \\\n",
       "0           NaN  False  ground_floor    4.0   1.0    True  May19   \n",
       "1           NaN   True     apartment    3.0   3.0   False  Oct19   \n",
       "2           NaN  False     apartment    3.0   1.0   False  Feb20   \n",
       "3           NaN  False           NaN    2.0   1.0    True  Feb20   \n",
       "4           NaN  False  ground_floor    3.0   NaN   False  Feb20   \n",
       "\n",
       "   Cost_Of_living  \n",
       "0          Median  \n",
       "1       Expensive  \n",
       "2       Expensive  \n",
       "3        Cheapest  \n",
       "4        Cheapest  \n",
       "\n",
       "[5 rows x 24 columns]"
      ]
     },
     "execution_count": 29,
     "metadata": {},
     "output_type": "execute_result"
    }
   ],
   "source": [
    "df.head()"
   ]
  },
  {
   "cell_type": "code",
   "execution_count": 30,
   "id": "a0bfe667-81a1-4e49-8137-0e1097421195",
   "metadata": {},
   "outputs": [],
   "source": [
    "# Removing all categorical variables\n",
    "df.drop(['State', 'Heating Type', 'Telekom-Tv Offer', 'Newly Construction', 'Balcony', 'Cost_Of_living', 'date', 'Garden','Type Of Flat','Lift','Pets Allowed'], axis = 1, inplace = True)"
   ]
  },
  {
   "cell_type": "code",
   "execution_count": 31,
   "id": "97a8f29a-6044-4b8a-a321-e93d5aec1a0c",
   "metadata": {},
   "outputs": [],
   "source": [
    "df.drop(['Service Charge','Price_Trend','Telekom Upload Speed','Year Constructed','Floor'],axis=1,inplace=True)\n",
    "df.drop(['Kitchen','Cellar'],axis=1,inplace=True)"
   ]
  },
  {
   "cell_type": "code",
   "execution_count": 32,
   "id": "f18f9048-0219-440c-8b18-7d4c90f8b845",
   "metadata": {},
   "outputs": [
    {
     "data": {
      "text/html": [
       "<div>\n",
       "<style scoped>\n",
       "    .dataframe tbody tr th:only-of-type {\n",
       "        vertical-align: middle;\n",
       "    }\n",
       "\n",
       "    .dataframe tbody tr th {\n",
       "        vertical-align: top;\n",
       "    }\n",
       "\n",
       "    .dataframe thead th {\n",
       "        text-align: right;\n",
       "    }\n",
       "</style>\n",
       "<table border=\"1\" class=\"dataframe\">\n",
       "  <thead>\n",
       "    <tr style=\"text-align: right;\">\n",
       "      <th></th>\n",
       "      <th>Picture_count</th>\n",
       "      <th>Total Rent</th>\n",
       "      <th>Scout ID</th>\n",
       "      <th>Base Rent</th>\n",
       "      <th>Living Space</th>\n",
       "      <th>Rooms</th>\n",
       "    </tr>\n",
       "  </thead>\n",
       "  <tbody>\n",
       "    <tr>\n",
       "      <th>0</th>\n",
       "      <td>6</td>\n",
       "      <td>840.00</td>\n",
       "      <td>96107057</td>\n",
       "      <td>595.00</td>\n",
       "      <td>86.00</td>\n",
       "      <td>4.0</td>\n",
       "    </tr>\n",
       "    <tr>\n",
       "      <th>1</th>\n",
       "      <td>8</td>\n",
       "      <td>1300.00</td>\n",
       "      <td>113147523</td>\n",
       "      <td>965.00</td>\n",
       "      <td>83.80</td>\n",
       "      <td>3.0</td>\n",
       "    </tr>\n",
       "    <tr>\n",
       "      <th>2</th>\n",
       "      <td>19</td>\n",
       "      <td>903.00</td>\n",
       "      <td>114751222</td>\n",
       "      <td>765.00</td>\n",
       "      <td>84.97</td>\n",
       "      <td>3.0</td>\n",
       "    </tr>\n",
       "    <tr>\n",
       "      <th>3</th>\n",
       "      <td>9</td>\n",
       "      <td>380.00</td>\n",
       "      <td>114391930</td>\n",
       "      <td>310.00</td>\n",
       "      <td>62.00</td>\n",
       "      <td>2.0</td>\n",
       "    </tr>\n",
       "    <tr>\n",
       "      <th>4</th>\n",
       "      <td>5</td>\n",
       "      <td>584.25</td>\n",
       "      <td>115270775</td>\n",
       "      <td>452.25</td>\n",
       "      <td>60.30</td>\n",
       "      <td>3.0</td>\n",
       "    </tr>\n",
       "  </tbody>\n",
       "</table>\n",
       "</div>"
      ],
      "text/plain": [
       "   Picture_count  Total Rent   Scout ID  Base Rent  Living Space  Rooms\n",
       "0              6      840.00   96107057     595.00         86.00    4.0\n",
       "1              8     1300.00  113147523     965.00         83.80    3.0\n",
       "2             19      903.00  114751222     765.00         84.97    3.0\n",
       "3              9      380.00  114391930     310.00         62.00    2.0\n",
       "4              5      584.25  115270775     452.25         60.30    3.0"
      ]
     },
     "execution_count": 32,
     "metadata": {},
     "output_type": "execute_result"
    }
   ],
   "source": [
    "df.head()"
   ]
  },
  {
   "cell_type": "code",
   "execution_count": 33,
   "id": "b0096dec-290f-4d6d-80d8-59487c53c60f",
   "metadata": {},
   "outputs": [
    {
     "data": {
      "text/plain": [
       "Picture_count    0\n",
       "Total Rent       0\n",
       "Scout ID         0\n",
       "Base Rent        0\n",
       "Living Space     0\n",
       "Rooms            0\n",
       "dtype: int64"
      ]
     },
     "execution_count": 33,
     "metadata": {},
     "output_type": "execute_result"
    }
   ],
   "source": [
    "df.isnull().sum()"
   ]
  },
  {
   "cell_type": "markdown",
   "id": "f1b9bcc9-a6d8-4229-bfe5-1e5904280e4b",
   "metadata": {},
   "source": [
    "# The Elbow Technique"
   ]
  },
  {
   "cell_type": "code",
   "execution_count": 34,
   "id": "5d5e4ec7-24a2-4279-a6ae-f6fce0b70d5e",
   "metadata": {},
   "outputs": [],
   "source": [
    "# Define the range of potential clusters in the data.\n",
    "num_cl = range(1, 10)\n",
    "\n",
    "# Define k-means clusters in the range assigned above.\n",
    "kmeans = [KMeans(n_clusters=i) for i in num_cl] "
   ]
  },
  {
   "cell_type": "code",
   "execution_count": 35,
   "id": "59e5ff91-32ec-40e5-bb54-3ddb5929c1a6",
   "metadata": {},
   "outputs": [
    {
     "data": {
      "text/plain": [
       "[-3.573711753925704e+19,\n",
       " -9.073101939422479e+18,\n",
       " -4.5812177685302943e+18,\n",
       " -2.604293567751081e+18,\n",
       " -1.7060677617406725e+18,\n",
       " -1.2635047206031455e+18,\n",
       " -8.858005801166301e+17,\n",
       " -6.565268776918435e+17,\n",
       " -5.3110919648128e+17]"
      ]
     },
     "execution_count": 35,
     "metadata": {},
     "output_type": "execute_result"
    }
   ],
   "source": [
    "# Create a score that represents a rate of variation for the given cluster option.\n",
    "score = [kmeans[i].fit(df).score(df) for i in range(len(kmeans))] \n",
    "\n",
    "score"
   ]
  },
  {
   "cell_type": "code",
   "execution_count": 36,
   "id": "be7290de-7bdf-410f-8797-4e618cf3473b",
   "metadata": {},
   "outputs": [
    {
     "data": {
      "image/png": "[encoded data removed]",
      "text/plain": [
       "<Figure size 432x288 with 1 Axes>"
      ]
     },
     "metadata": {
      "needs_background": "light"
     },
     "output_type": "display_data"
    }
   ],
   "source": [
    "# Plot the elbow curve using PyLab.\n",
    "\n",
    "pl.plot(num_cl,score)\n",
    "pl.xlabel('Number of Clusters')\n",
    "pl.ylabel('Score')\n",
    "pl.title('Elbow Curve')\n",
    "pl.show()"
   ]
  },
  {
   "cell_type": "markdown",
   "id": "83d9c861-d17f-4132-b887-8fd4fdbbea8b",
   "metadata": {},
   "source": [
    "### Based on the Elbow the number of clusters is 3. After the value of 3 it flatens out"
   ]
  },
  {
   "cell_type": "markdown",
   "id": "a686019d-0530-4b2f-ab45-4eb7c9b5d06d",
   "metadata": {},
   "source": [
    "# K-Means Clustering"
   ]
  },
  {
   "cell_type": "code",
   "execution_count": 37,
   "id": "364ec360-7f50-4ba7-b811-dc6e6e0368d3",
   "metadata": {},
   "outputs": [],
   "source": [
    "# Create the k-means object.\n",
    "\n",
    "kmeans = KMeans(n_clusters = 3,) "
   ]
  },
  {
   "cell_type": "code",
   "execution_count": 38,
   "id": "c75b50b4-0b3d-4a3f-bd6e-b446e541cbe4",
   "metadata": {},
   "outputs": [
    {
     "data": {
      "text/plain": [
       "KMeans(n_clusters=3)"
      ]
     },
     "execution_count": 38,
     "metadata": {},
     "output_type": "execute_result"
    }
   ],
   "source": [
    "# Fit the k-means object to the data.\n",
    "\n",
    "kmeans.fit(df)"
   ]
  },
  {
   "cell_type": "code",
   "execution_count": 39,
   "id": "0de055df-a60f-4546-bbda-3e1b847e1437",
   "metadata": {},
   "outputs": [],
   "source": [
    "# Create a column in the dataframe with values corresponding to which cluster every observation belongs\n",
    "\n",
    "df['clusters'] = kmeans.fit_predict(df)"
   ]
  },
  {
   "cell_type": "code",
   "execution_count": 40,
   "id": "a1d4dbff-56e9-4616-acdd-48f445c5759a",
   "metadata": {},
   "outputs": [
    {
     "data": {
      "text/html": [
       "<div>\n",
       "<style scoped>\n",
       "    .dataframe tbody tr th:only-of-type {\n",
       "        vertical-align: middle;\n",
       "    }\n",
       "\n",
       "    .dataframe tbody tr th {\n",
       "        vertical-align: top;\n",
       "    }\n",
       "\n",
       "    .dataframe thead th {\n",
       "        text-align: right;\n",
       "    }\n",
       "</style>\n",
       "<table border=\"1\" class=\"dataframe\">\n",
       "  <thead>\n",
       "    <tr style=\"text-align: right;\">\n",
       "      <th></th>\n",
       "      <th>Picture_count</th>\n",
       "      <th>Total Rent</th>\n",
       "      <th>Scout ID</th>\n",
       "      <th>Base Rent</th>\n",
       "      <th>Living Space</th>\n",
       "      <th>Rooms</th>\n",
       "      <th>clusters</th>\n",
       "    </tr>\n",
       "  </thead>\n",
       "  <tbody>\n",
       "    <tr>\n",
       "      <th>0</th>\n",
       "      <td>6</td>\n",
       "      <td>840.00</td>\n",
       "      <td>96107057</td>\n",
       "      <td>595.00</td>\n",
       "      <td>86.00</td>\n",
       "      <td>4.0</td>\n",
       "      <td>0</td>\n",
       "    </tr>\n",
       "    <tr>\n",
       "      <th>1</th>\n",
       "      <td>8</td>\n",
       "      <td>1300.00</td>\n",
       "      <td>113147523</td>\n",
       "      <td>965.00</td>\n",
       "      <td>83.80</td>\n",
       "      <td>3.0</td>\n",
       "      <td>1</td>\n",
       "    </tr>\n",
       "    <tr>\n",
       "      <th>2</th>\n",
       "      <td>19</td>\n",
       "      <td>903.00</td>\n",
       "      <td>114751222</td>\n",
       "      <td>765.00</td>\n",
       "      <td>84.97</td>\n",
       "      <td>3.0</td>\n",
       "      <td>1</td>\n",
       "    </tr>\n",
       "    <tr>\n",
       "      <th>3</th>\n",
       "      <td>9</td>\n",
       "      <td>380.00</td>\n",
       "      <td>114391930</td>\n",
       "      <td>310.00</td>\n",
       "      <td>62.00</td>\n",
       "      <td>2.0</td>\n",
       "      <td>1</td>\n",
       "    </tr>\n",
       "    <tr>\n",
       "      <th>4</th>\n",
       "      <td>5</td>\n",
       "      <td>584.25</td>\n",
       "      <td>115270775</td>\n",
       "      <td>452.25</td>\n",
       "      <td>60.30</td>\n",
       "      <td>3.0</td>\n",
       "      <td>1</td>\n",
       "    </tr>\n",
       "  </tbody>\n",
       "</table>\n",
       "</div>"
      ],
      "text/plain": [
       "   Picture_count  Total Rent   Scout ID  Base Rent  Living Space  Rooms  \\\n",
       "0              6      840.00   96107057     595.00         86.00    4.0   \n",
       "1              8     1300.00  113147523     965.00         83.80    3.0   \n",
       "2             19      903.00  114751222     765.00         84.97    3.0   \n",
       "3              9      380.00  114391930     310.00         62.00    2.0   \n",
       "4              5      584.25  115270775     452.25         60.30    3.0   \n",
       "\n",
       "   clusters  \n",
       "0         0  \n",
       "1         1  \n",
       "2         1  \n",
       "3         1  \n",
       "4         1  "
      ]
     },
     "execution_count": 40,
     "metadata": {},
     "output_type": "execute_result"
    }
   ],
   "source": [
    "df.head()"
   ]
  },
  {
   "cell_type": "code",
   "execution_count": 41,
   "id": "9773436c-1162-4304-b8c6-65d697e51b3b",
   "metadata": {},
   "outputs": [
    {
     "data": {
      "text/plain": [
       "1    195618\n",
       "0     22774\n",
       "2      9923\n",
       "Name: clusters, dtype: int64"
      ]
     },
     "execution_count": 41,
     "metadata": {},
     "output_type": "execute_result"
    }
   ],
   "source": [
    "df['clusters'].value_counts()\n"
   ]
  },
  {
   "cell_type": "code",
   "execution_count": 42,
   "id": "1dcdcba5-071c-4cd0-b04e-6c4b0d4e09ea",
   "metadata": {},
   "outputs": [
    {
     "data": {
      "text/html": [
       "<div>\n",
       "<style scoped>\n",
       "    .dataframe tbody tr th:only-of-type {\n",
       "        vertical-align: middle;\n",
       "    }\n",
       "\n",
       "    .dataframe tbody tr th {\n",
       "        vertical-align: top;\n",
       "    }\n",
       "\n",
       "    .dataframe thead th {\n",
       "        text-align: right;\n",
       "    }\n",
       "</style>\n",
       "<table border=\"1\" class=\"dataframe\">\n",
       "  <thead>\n",
       "    <tr style=\"text-align: right;\">\n",
       "      <th></th>\n",
       "      <th>Picture_count</th>\n",
       "      <th>Total Rent</th>\n",
       "      <th>Scout ID</th>\n",
       "      <th>Base Rent</th>\n",
       "      <th>Living Space</th>\n",
       "      <th>Rooms</th>\n",
       "      <th>clusters</th>\n",
       "    </tr>\n",
       "  </thead>\n",
       "  <tbody>\n",
       "    <tr>\n",
       "      <th>128737</th>\n",
       "      <td>23</td>\n",
       "      <td>1400.0</td>\n",
       "      <td>109350573</td>\n",
       "      <td>1200.0</td>\n",
       "      <td>66100.0</td>\n",
       "      <td>2.0</td>\n",
       "      <td>1</td>\n",
       "    </tr>\n",
       "    <tr>\n",
       "      <th>149259</th>\n",
       "      <td>0</td>\n",
       "      <td>369.0</td>\n",
       "      <td>113363197</td>\n",
       "      <td>679.0</td>\n",
       "      <td>111111.0</td>\n",
       "      <td>3.0</td>\n",
       "      <td>1</td>\n",
       "    </tr>\n",
       "    <tr>\n",
       "      <th>189743</th>\n",
       "      <td>11</td>\n",
       "      <td>1641.5</td>\n",
       "      <td>109754861</td>\n",
       "      <td>1385.0</td>\n",
       "      <td>10259.0</td>\n",
       "      <td>3.0</td>\n",
       "      <td>1</td>\n",
       "    </tr>\n",
       "  </tbody>\n",
       "</table>\n",
       "</div>"
      ],
      "text/plain": [
       "        Picture_count  Total Rent   Scout ID  Base Rent  Living Space  Rooms  \\\n",
       "128737             23      1400.0  109350573     1200.0       66100.0    2.0   \n",
       "149259              0       369.0  113363197      679.0      111111.0    3.0   \n",
       "189743             11      1641.5  109754861     1385.0       10259.0    3.0   \n",
       "\n",
       "        clusters  \n",
       "128737         1  \n",
       "149259         1  \n",
       "189743         1  "
      ]
     },
     "execution_count": 42,
     "metadata": {},
     "output_type": "execute_result"
    }
   ],
   "source": [
    "df[df['Living Space']>10000]"
   ]
  },
  {
   "cell_type": "code",
   "execution_count": null,
   "id": "8d714bd3-71e0-4cf7-8805-e7b569425064",
   "metadata": {},
   "outputs": [],
   "source": []
  },
  {
   "cell_type": "code",
   "execution_count": 43,
   "id": "b07478b7-ae2d-4946-aa05-2068ed2e6291",
   "metadata": {},
   "outputs": [
    {
     "data": {
      "image/png": "[encoded data removed]",
      "text/plain": [
       "<Figure size 864x576 with 1 Axes>"
      ]
     },
     "metadata": {
      "needs_background": "light"
     },
     "output_type": "display_data"
    }
   ],
   "source": [
    "# Plot the clusters for the \"Living Spsace\" and \"Total Rent\" variables.\n",
    "\n",
    "plt.figure(figsize = (12,8))\n",
    "ax = sns.scatterplot(x = df['Living Space'], y = df['Total Rent'], hue = kmeans.labels_, s = 100) \n",
    "# Here, you're subsetting `X` for the x and y arguments to avoid using their labels. \n",
    "# `hue` takes the value of the attribute `kmeans.labels_`, which is the result of running the k-means algorithm.\n",
    "# `s` represents the size of the points you want to see in the plot.\n",
    "\n",
    "ax.grid(False) # This removes the grid from the background.\n",
    "plt.xlabel('Living Space')\n",
    "plt.ylabel('Total Rent')\n",
    "plt.show()"
   ]
  },
  {
   "cell_type": "code",
   "execution_count": 45,
   "id": "f3d66e08-2d16-4851-86b2-46f778a4e3c3",
   "metadata": {},
   "outputs": [
    {
     "data": {
      "image/png": "[encoded data removed]",
      "text/plain": [
       "<Figure size 864x576 with 1 Axes>"
      ]
     },
     "metadata": {
      "needs_background": "light"
     },
     "output_type": "display_data"
    }
   ],
   "source": [
    "# Plot the clusters for the \"Rooms\" and \"Total Rent\" variables.\n",
    "\n",
    "plt.figure(figsize = (12,8))\n",
    "ax = sns.scatterplot(x = df['Rooms'], y = df['Total Rent'], hue = kmeans.labels_, s = 100) \n",
    "\n",
    "ax.grid(False)\n",
    "plt.xlabel('Rooms')\n",
    "plt.ylabel('Total Rent')\n",
    "plt.title('Rooms vs Total Rent')\n",
    "plt.show()"
   ]
  },
  {
   "cell_type": "code",
   "execution_count": 31,
   "id": "780b4dad-601c-48dc-99f3-efd839f6d4b6",
   "metadata": {},
   "outputs": [
    {
     "data": {
      "image/png": "[encoded data removed]",
      "text/plain": [
       "<Figure size 864x576 with 1 Axes>"
      ]
     },
     "metadata": {
      "needs_background": "light"
     },
     "output_type": "display_data"
    }
   ],
   "source": [
    "# Plot the clusters for the \"Picture_count\" and \"Total Rent\" variables.\n",
    "\n",
    "plt.figure(figsize = (12,8))\n",
    "ax = sns.scatterplot(x = df['Picture_count'], y = df['Total Rent'], hue = kmeans.labels_, s = 100) \n",
    "\n",
    "ax.grid(False)\n",
    "plt.xlabel('Picture Count')\n",
    "plt.ylabel('Total Rent')\n",
    "plt.show()"
   ]
  },
  {
   "cell_type": "markdown",
   "id": "b482cef8-98db-44ab-8beb-741f1ce1fef6",
   "metadata": {},
   "source": [
    "# Observations\n",
    " - For the Most Part Cluster 0 has peformed best in all three plots\n",
    " - The Plot for Living Space vs Total Rent shows that more living space the more rent is\n",
    " - The Cluster 2 Purple has not been represented for the Rooms vs Total Rent for +4 Rooms\n",
    "\n"
   ]
  },
  {
   "cell_type": "markdown",
   "id": "feb216c4-afa5-4dce-b7f9-4919878ffee7",
   "metadata": {},
   "source": [
    "# Descriptive Statistics"
   ]
  },
  {
   "cell_type": "code",
   "execution_count": 53,
   "id": "7a78eb80-6383-40a7-be43-6786f63160c8",
   "metadata": {},
   "outputs": [],
   "source": [
    "df.loc[df['clusters'] == 2, 'cluster'] = 'dark purple'\n",
    "df.loc[df['clusters'] == 1, 'cluster'] = 'purple'\n",
    "df.loc[df['clusters'] == 0, 'cluster'] = 'pink'"
   ]
  },
  {
   "cell_type": "code",
   "execution_count": 56,
   "id": "cd5fdf08-9671-4221-b01e-8586ea5c3614",
   "metadata": {},
   "outputs": [
    {
     "data": {
      "text/html": [
       "<div>\n",
       "<style scoped>\n",
       "    .dataframe tbody tr th:only-of-type {\n",
       "        vertical-align: middle;\n",
       "    }\n",
       "\n",
       "    .dataframe tbody tr th {\n",
       "        vertical-align: top;\n",
       "    }\n",
       "\n",
       "    .dataframe thead tr th {\n",
       "        text-align: left;\n",
       "    }\n",
       "\n",
       "    .dataframe thead tr:last-of-type th {\n",
       "        text-align: right;\n",
       "    }\n",
       "</style>\n",
       "<table border=\"1\" class=\"dataframe\">\n",
       "  <thead>\n",
       "    <tr>\n",
       "      <th></th>\n",
       "      <th colspan=\"2\" halign=\"left\">Total Rent</th>\n",
       "      <th colspan=\"2\" halign=\"left\">Rooms</th>\n",
       "      <th colspan=\"2\" halign=\"left\">Living Space</th>\n",
       "      <th colspan=\"2\" halign=\"left\">Picture_count</th>\n",
       "    </tr>\n",
       "    <tr>\n",
       "      <th></th>\n",
       "      <th>mean</th>\n",
       "      <th>median</th>\n",
       "      <th>mean</th>\n",
       "      <th>median</th>\n",
       "      <th>mean</th>\n",
       "      <th>median</th>\n",
       "      <th>mean</th>\n",
       "      <th>median</th>\n",
       "    </tr>\n",
       "    <tr>\n",
       "      <th>cluster</th>\n",
       "      <th></th>\n",
       "      <th></th>\n",
       "      <th></th>\n",
       "      <th></th>\n",
       "      <th></th>\n",
       "      <th></th>\n",
       "      <th></th>\n",
       "      <th></th>\n",
       "    </tr>\n",
       "  </thead>\n",
       "  <tbody>\n",
       "    <tr>\n",
       "      <th>dark purple</th>\n",
       "      <td>687.284596</td>\n",
       "      <td>570.000</td>\n",
       "      <td>2.514227</td>\n",
       "      <td>2.0</td>\n",
       "      <td>69.178744</td>\n",
       "      <td>64.83</td>\n",
       "      <td>9.389174</td>\n",
       "      <td>9.0</td>\n",
       "    </tr>\n",
       "    <tr>\n",
       "      <th>pink</th>\n",
       "      <td>829.082588</td>\n",
       "      <td>658.755</td>\n",
       "      <td>2.627123</td>\n",
       "      <td>3.0</td>\n",
       "      <td>74.307826</td>\n",
       "      <td>67.00</td>\n",
       "      <td>9.842386</td>\n",
       "      <td>9.0</td>\n",
       "    </tr>\n",
       "    <tr>\n",
       "      <th>purple</th>\n",
       "      <td>749.065100</td>\n",
       "      <td>610.000</td>\n",
       "      <td>2.528529</td>\n",
       "      <td>2.5</td>\n",
       "      <td>70.271969</td>\n",
       "      <td>65.00</td>\n",
       "      <td>10.301493</td>\n",
       "      <td>9.0</td>\n",
       "    </tr>\n",
       "  </tbody>\n",
       "</table>\n",
       "</div>"
      ],
      "text/plain": [
       "             Total Rent              Rooms        Living Space         \\\n",
       "                   mean   median      mean median         mean median   \n",
       "cluster                                                                 \n",
       "dark purple  687.284596  570.000  2.514227    2.0    69.178744  64.83   \n",
       "pink         829.082588  658.755  2.627123    3.0    74.307826  67.00   \n",
       "purple       749.065100  610.000  2.528529    2.5    70.271969  65.00   \n",
       "\n",
       "            Picture_count         \n",
       "                     mean median  \n",
       "cluster                           \n",
       "dark purple      9.389174    9.0  \n",
       "pink             9.842386    9.0  \n",
       "purple          10.301493    9.0  "
      ]
     },
     "execution_count": 56,
     "metadata": {},
     "output_type": "execute_result"
    }
   ],
   "source": [
    "df.groupby('cluster').agg({'Total Rent':['mean', 'median'], \n",
    "                         'Rooms':['mean', 'median'], \n",
    "                         'Living Space':['mean', 'median'],\n",
    "                          'Picture_count':['mean', 'median']})"
   ]
  },
  {
   "cell_type": "markdown",
   "id": "ac8783bf-0e30-4b8b-a02e-720a11b5e631",
   "metadata": {},
   "source": [
    "### The K clustering show some intersting insights. It would be great if we could analyze the categorical analysis and how it impact the Total Rent"
   ]
  },
  {
   "cell_type": "code",
   "execution_count": null,
   "id": "0cfff74f-4282-4691-9a82-ef07b08d1edd",
   "metadata": {},
   "outputs": [],
   "source": []
  }
 ],
 "metadata": {
  "kernelspec": {
   "display_name": "Python 3 (ipykernel)",
   "language": "python",
   "name": "python3"
  },
  "language_info": {
   "codemirror_mode": {
    "name": "ipython",
    "version": 3
   },
   "file_extension": ".py",
   "mimetype": "text/x-python",
   "name": "python",
   "nbconvert_exporter": "python",
   "pygments_lexer": "ipython3",
   "version": "3.9.12"
  }
 },
 "nbformat": 4,
 "nbformat_minor": 5
}
